{
  "nbformat": 4,
  "nbformat_minor": 0,
  "metadata": {
    "colab": {
      "name": "Assignment_8.ipynb",
      "provenance": [],
      "authorship_tag": "ABX9TyNdwmcTdoT6ESffj6CgKxxp",
      "include_colab_link": true
    },
    "kernelspec": {
      "name": "python3",
      "display_name": "Python 3"
    },
    "language_info": {
      "name": "python"
    }
  },
  "cells": [
    {
      "cell_type": "markdown",
      "metadata": {
        "id": "view-in-github",
        "colab_type": "text"
      },
      "source": [
        "<a href=\"https://colab.research.google.com/github/Manisha1208/NNDL/blob/main/Assignment_8.ipynb\" target=\"_parent\"><img src=\"https://colab.research.google.com/assets/colab-badge.svg\" alt=\"Open In Colab\"/></a>"
      ]
    },
    {
      "cell_type": "markdown",
      "metadata": {
        "id": "dAokNuSwo8mh"
      },
      "source": [
        "BATCH GRADIENT DESCENT (ON REAL TIME DATA)"
      ]
    },
    {
      "cell_type": "code",
      "metadata": {
        "id": "n1OKVUwlo9SX"
      },
      "source": [
        "# importing all necessary packages\n",
        "import numpy as np\n",
        "import pandas as pd\n",
        "import matplotlib.pyplot as plt\n",
        "import seaborn as sns\n",
        "from sklearn.preprocessing import minmax_scale"
      ],
      "execution_count": 44,
      "outputs": []
    },
    {
      "cell_type": "code",
      "metadata": {
        "colab": {
          "base_uri": "https://localhost:8080/",
          "height": 204
        },
        "id": "HOPgjUlmpDWg",
        "outputId": "b967a0ab-4fd8-43ee-c1da-869826255d80"
      },
      "source": [
        "# READING THE  DATA SET\n",
        "data = pd.read_csv(\"/content/Assignment_8.csv\")\n",
        "data.head()"
      ],
      "execution_count": 46,
      "outputs": [
        {
          "output_type": "execute_result",
          "data": {
            "text/html": [
              "<div>\n",
              "<style scoped>\n",
              "    .dataframe tbody tr th:only-of-type {\n",
              "        vertical-align: middle;\n",
              "    }\n",
              "\n",
              "    .dataframe tbody tr th {\n",
              "        vertical-align: top;\n",
              "    }\n",
              "\n",
              "    .dataframe thead th {\n",
              "        text-align: right;\n",
              "    }\n",
              "</style>\n",
              "<table border=\"1\" class=\"dataframe\">\n",
              "  <thead>\n",
              "    <tr style=\"text-align: right;\">\n",
              "      <th></th>\n",
              "      <th>X</th>\n",
              "      <th>Y</th>\n",
              "    </tr>\n",
              "  </thead>\n",
              "  <tbody>\n",
              "    <tr>\n",
              "      <th>0</th>\n",
              "      <td>75.1</td>\n",
              "      <td>577.8</td>\n",
              "    </tr>\n",
              "    <tr>\n",
              "      <th>1</th>\n",
              "      <td>74.3</td>\n",
              "      <td>577.0</td>\n",
              "    </tr>\n",
              "    <tr>\n",
              "      <th>2</th>\n",
              "      <td>88.7</td>\n",
              "      <td>570.9</td>\n",
              "    </tr>\n",
              "    <tr>\n",
              "      <th>3</th>\n",
              "      <td>114.6</td>\n",
              "      <td>578.6</td>\n",
              "    </tr>\n",
              "    <tr>\n",
              "      <th>4</th>\n",
              "      <td>98.5</td>\n",
              "      <td>572.4</td>\n",
              "    </tr>\n",
              "  </tbody>\n",
              "</table>\n",
              "</div>"
            ],
            "text/plain": [
              "       X      Y\n",
              "0   75.1  577.8\n",
              "1   74.3  577.0\n",
              "2   88.7  570.9\n",
              "3  114.6  578.6\n",
              "4   98.5  572.4"
            ]
          },
          "metadata": {
            "tags": []
          },
          "execution_count": 46
        }
      ]
    },
    {
      "cell_type": "markdown",
      "metadata": {
        "id": "em6pOIbVp0Fb"
      },
      "source": [
        "DATA ANALYSIS AND VISUALISATION"
      ]
    },
    {
      "cell_type": "code",
      "metadata": {
        "colab": {
          "base_uri": "https://localhost:8080/"
        },
        "id": "xqVKiJtIp4M7",
        "outputId": "55f20377-af2e-4d75-d659-bce99771a60c"
      },
      "source": [
        "data.info()"
      ],
      "execution_count": 47,
      "outputs": [
        {
          "output_type": "stream",
          "text": [
            "<class 'pandas.core.frame.DataFrame'>\n",
            "RangeIndex: 30 entries, 0 to 29\n",
            "Data columns (total 2 columns):\n",
            " #   Column  Non-Null Count  Dtype  \n",
            "---  ------  --------------  -----  \n",
            " 0   X       30 non-null     float64\n",
            " 1   Y       30 non-null     float64\n",
            "dtypes: float64(2)\n",
            "memory usage: 608.0 bytes\n"
          ],
          "name": "stdout"
        }
      ]
    },
    {
      "cell_type": "code",
      "metadata": {
        "colab": {
          "base_uri": "https://localhost:8080/",
          "height": 297
        },
        "id": "Rrv9vKTmp-GB",
        "outputId": "3ad2b05e-70a4-40b4-9666-8b1743cc1d25"
      },
      "source": [
        "data.describe()"
      ],
      "execution_count": 48,
      "outputs": [
        {
          "output_type": "execute_result",
          "data": {
            "text/html": [
              "<div>\n",
              "<style scoped>\n",
              "    .dataframe tbody tr th:only-of-type {\n",
              "        vertical-align: middle;\n",
              "    }\n",
              "\n",
              "    .dataframe tbody tr th {\n",
              "        vertical-align: top;\n",
              "    }\n",
              "\n",
              "    .dataframe thead th {\n",
              "        text-align: right;\n",
              "    }\n",
              "</style>\n",
              "<table border=\"1\" class=\"dataframe\">\n",
              "  <thead>\n",
              "    <tr style=\"text-align: right;\">\n",
              "      <th></th>\n",
              "      <th>X</th>\n",
              "      <th>Y</th>\n",
              "    </tr>\n",
              "  </thead>\n",
              "  <tbody>\n",
              "    <tr>\n",
              "      <th>count</th>\n",
              "      <td>30.000000</td>\n",
              "      <td>30.000000</td>\n",
              "    </tr>\n",
              "    <tr>\n",
              "      <th>mean</th>\n",
              "      <td>90.273333</td>\n",
              "      <td>514.963333</td>\n",
              "    </tr>\n",
              "    <tr>\n",
              "      <th>std</th>\n",
              "      <td>16.986078</td>\n",
              "      <td>39.535096</td>\n",
              "    </tr>\n",
              "    <tr>\n",
              "      <th>min</th>\n",
              "      <td>62.200000</td>\n",
              "      <td>406.700000</td>\n",
              "    </tr>\n",
              "    <tr>\n",
              "      <th>25%</th>\n",
              "      <td>75.300000</td>\n",
              "      <td>505.250000</td>\n",
              "    </tr>\n",
              "    <tr>\n",
              "      <th>50%</th>\n",
              "      <td>89.150000</td>\n",
              "      <td>510.100000</td>\n",
              "    </tr>\n",
              "    <tr>\n",
              "      <th>75%</th>\n",
              "      <td>104.375000</td>\n",
              "      <td>519.850000</td>\n",
              "    </tr>\n",
              "    <tr>\n",
              "      <th>max</th>\n",
              "      <td>120.000000</td>\n",
              "      <td>578.600000</td>\n",
              "    </tr>\n",
              "  </tbody>\n",
              "</table>\n",
              "</div>"
            ],
            "text/plain": [
              "                X           Y\n",
              "count   30.000000   30.000000\n",
              "mean    90.273333  514.963333\n",
              "std     16.986078   39.535096\n",
              "min     62.200000  406.700000\n",
              "25%     75.300000  505.250000\n",
              "50%     89.150000  510.100000\n",
              "75%    104.375000  519.850000\n",
              "max    120.000000  578.600000"
            ]
          },
          "metadata": {
            "tags": []
          },
          "execution_count": 48
        }
      ]
    },
    {
      "cell_type": "markdown",
      "metadata": {
        "id": "mSFzdyzUqDdE"
      },
      "source": [
        "NULL value Treatment"
      ]
    },
    {
      "cell_type": "code",
      "metadata": {
        "colab": {
          "base_uri": "https://localhost:8080/"
        },
        "id": "Y13ir_9nqEbk",
        "outputId": "7481071f-e783-4ffc-ddd0-ade670867322"
      },
      "source": [
        "data.isnull().sum()"
      ],
      "execution_count": 49,
      "outputs": [
        {
          "output_type": "execute_result",
          "data": {
            "text/plain": [
              "X    0\n",
              "Y    0\n",
              "dtype: int64"
            ]
          },
          "metadata": {
            "tags": []
          },
          "execution_count": 49
        }
      ]
    },
    {
      "cell_type": "markdown",
      "metadata": {
        "id": "bohVfDwZqKEo"
      },
      "source": [
        "Observation: the given dataset do not contain any null values"
      ]
    },
    {
      "cell_type": "markdown",
      "metadata": {
        "id": "DMT3ogrxqNr4"
      },
      "source": [
        "Outliners Treatment"
      ]
    },
    {
      "cell_type": "code",
      "metadata": {
        "colab": {
          "base_uri": "https://localhost:8080/",
          "height": 296
        },
        "id": "DGhTiVhmqOnS",
        "outputId": "8882ee65-b47c-48d8-ba0d-c11248d0aa38"
      },
      "source": [
        "sns.boxplot(x=data['X'])"
      ],
      "execution_count": 50,
      "outputs": [
        {
          "output_type": "execute_result",
          "data": {
            "text/plain": [
              "<matplotlib.axes._subplots.AxesSubplot at 0x7f1da3697110>"
            ]
          },
          "metadata": {
            "tags": []
          },
          "execution_count": 50
        },
        {
          "output_type": "display_data",
          "data": {
            "image/png": "[encoded data removed]",
            "text/plain": [
              "<Figure size 432x288 with 1 Axes>"
            ]
          },
          "metadata": {
            "tags": [],
            "needs_background": "light"
          }
        }
      ]
    },
    {
      "cell_type": "code",
      "metadata": {
        "colab": {
          "base_uri": "https://localhost:8080/",
          "height": 296
        },
        "id": "J4u4Tr4PqYl2",
        "outputId": "d8d30fe3-394d-4123-e33a-c4ac5dc6c563"
      },
      "source": [
        "sns.boxplot(x=data['Y'])"
      ],
      "execution_count": 52,
      "outputs": [
        {
          "output_type": "execute_result",
          "data": {
            "text/plain": [
              "<matplotlib.axes._subplots.AxesSubplot at 0x7f1da364b090>"
            ]
          },
          "metadata": {
            "tags": []
          },
          "execution_count": 52
        },
        {
          "output_type": "display_data",
          "data": {
            "image/png": "[encoded data removed]",
            "text/plain": [
              "<Figure size 432x288 with 1 Axes>"
            ]
          },
          "metadata": {
            "tags": [],
            "needs_background": "light"
          }
        }
      ]
    },
    {
      "cell_type": "code",
      "metadata": {
        "colab": {
          "base_uri": "https://localhost:8080/"
        },
        "id": "NtrPPxCIqqNa",
        "outputId": "2b9569fd-1aea-4f5b-8717-f542891f76b7"
      },
      "source": [
        "# Z-SCORE\n",
        "from scipy import stats\n",
        "import numpy as np\n",
        "z = np.abs(stats.zscore(data))\n",
        "print(z)"
      ],
      "execution_count": 53,
      "outputs": [
        {
          "output_type": "stream",
          "text": [
            "[[0.90855142 1.61656054]\n",
            " [0.95645395 1.59597943]\n",
            " [0.09420832 1.43904846]\n",
            " [1.45663625 1.63714165]\n",
            " [0.49259774 1.47763804]\n",
            " [1.30095302 2.6694559 ]\n",
            " [1.46861189 0.430574  ]\n",
            " [1.68097979 1.25896373]\n",
            " [1.00156217 2.78522465]\n",
            " [0.01357238 0.20229517]\n",
            " [0.98639304 0.47756754]\n",
            " [1.52849006 0.25117531]\n",
            " [0.54648809 0.22030365]\n",
            " [0.16326781 0.12254337]\n",
            " [0.98040522 0.28461962]\n",
            " [1.4714062  0.22544892]\n",
            " [1.44146712 0.22287629]\n",
            " [0.74089254 0.12254337]\n",
            " [1.16922104 0.16370559]\n",
            " [0.9057571  0.10453489]\n",
            " [0.10019614 0.24603004]\n",
            " [0.04031797 0.05565476]\n",
            " [0.98639304 0.31291865]\n",
            " [0.66025661 0.56503726]\n",
            " [1.77997837 0.10710753]\n",
            " [0.86064888 0.05565476]\n",
            " [0.84268543 0.04021892]\n",
            " [0.50137987 0.12768865]\n",
            " [0.35767226 0.27432906]\n",
            " [0.46265865 0.18102803]]\n"
          ],
          "name": "stdout"
        }
      ]
    },
    {
      "cell_type": "code",
      "metadata": {
        "colab": {
          "base_uri": "https://localhost:8080/"
        },
        "id": "5cQlxmJcqvNB",
        "outputId": "775d0bae-13e6-493b-b9a8-3d4c5ea1ccae"
      },
      "source": [
        "threshold = 3\n",
        "print(np.where(z > 3))"
      ],
      "execution_count": 54,
      "outputs": [
        {
          "output_type": "stream",
          "text": [
            "(array([], dtype=int64), array([], dtype=int64))\n"
          ],
          "name": "stdout"
        }
      ]
    },
    {
      "cell_type": "markdown",
      "metadata": {
        "id": "nS8q_-ozqy6H"
      },
      "source": [
        "Observation:no outliners are found using Z-score test"
      ]
    },
    {
      "cell_type": "code",
      "metadata": {
        "colab": {
          "base_uri": "https://localhost:8080/",
          "height": 282
        },
        "id": "u-EoMGs4qz37",
        "outputId": "4d9853a6-2877-4800-fcd5-2edef5cb2d69"
      },
      "source": [
        "# Visualising data points using a Scatter plot\n",
        "plt.scatter(data['X'],data['Y'])"
      ],
      "execution_count": 55,
      "outputs": [
        {
          "output_type": "execute_result",
          "data": {
            "text/plain": [
              "<matplotlib.collections.PathCollection at 0x7f1da359ae10>"
            ]
          },
          "metadata": {
            "tags": []
          },
          "execution_count": 55
        },
        {
          "output_type": "display_data",
          "data": {
            "image/png": "[encoded data removed]",
            "text/plain": [
              "<Figure size 432x288 with 1 Axes>"
            ]
          },
          "metadata": {
            "tags": [],
            "needs_background": "light"
          }
        }
      ]
    },
    {
      "cell_type": "code",
      "metadata": {
        "colab": {
          "base_uri": "https://localhost:8080/"
        },
        "id": "XPCj38e0q8Y3",
        "outputId": "2277938d-aa12-4156-ed06-bb3e470e9c64"
      },
      "source": [
        "# Implementing ITQ\n",
        "q1 = data.quantile(0.25)\n",
        "q3 = data.quantile(0.75)\n",
        "iqr = q3 - q1\n",
        "iqr"
      ],
      "execution_count": 56,
      "outputs": [
        {
          "output_type": "execute_result",
          "data": {
            "text/plain": [
              "X    29.075\n",
              "Y    14.600\n",
              "dtype: float64"
            ]
          },
          "metadata": {
            "tags": []
          },
          "execution_count": 56
        }
      ]
    },
    {
      "cell_type": "code",
      "metadata": {
        "colab": {
          "base_uri": "https://localhost:8080/"
        },
        "id": "SBOqmfzfskf8",
        "outputId": "d6932f0d-ac38-407e-8c63-7d6a1cfdc6f8"
      },
      "source": [
        "data.shape"
      ],
      "execution_count": 57,
      "outputs": [
        {
          "output_type": "execute_result",
          "data": {
            "text/plain": [
              "(30, 2)"
            ]
          },
          "metadata": {
            "tags": []
          },
          "execution_count": 57
        }
      ]
    },
    {
      "cell_type": "code",
      "metadata": {
        "colab": {
          "base_uri": "https://localhost:8080/"
        },
        "id": "uDw_BI7bsvSV",
        "outputId": "26dbb67c-cc5c-4df3-fd0a-d446da1af03c"
      },
      "source": [
        "data_cleared = data[~((data < (q1 - 1.5 * iqr)) |(data > (q3 + 1.5 * iqr))).any(axis=1)]\n",
        "data_cleared.shape"
      ],
      "execution_count": 58,
      "outputs": [
        {
          "output_type": "execute_result",
          "data": {
            "text/plain": [
              "(22, 2)"
            ]
          },
          "metadata": {
            "tags": []
          },
          "execution_count": 58
        }
      ]
    },
    {
      "cell_type": "markdown",
      "metadata": {
        "id": "tMm5uDfqs019"
      },
      "source": [
        "After implementing ITQ, 8 rows are treated as outliners and those are ignored from dataset"
      ]
    },
    {
      "cell_type": "code",
      "metadata": {
        "colab": {
          "base_uri": "https://localhost:8080/",
          "height": 296
        },
        "id": "VDuWbHKJs1tt",
        "outputId": "06bd04e7-02ea-44b0-aa28-a83bf727710a"
      },
      "source": [
        "sns.boxplot(x=data_cleared['X'])"
      ],
      "execution_count": 59,
      "outputs": [
        {
          "output_type": "execute_result",
          "data": {
            "text/plain": [
              "<matplotlib.axes._subplots.AxesSubplot at 0x7f1da3548c90>"
            ]
          },
          "metadata": {
            "tags": []
          },
          "execution_count": 59
        },
        {
          "output_type": "display_data",
          "data": {
            "image/png": "[encoded data removed]",
            "text/plain": [
              "<Figure size 432x288 with 1 Axes>"
            ]
          },
          "metadata": {
            "tags": [],
            "needs_background": "light"
          }
        }
      ]
    },
    {
      "cell_type": "code",
      "metadata": {
        "colab": {
          "base_uri": "https://localhost:8080/",
          "height": 296
        },
        "id": "Q8ZSfrGJty-Q",
        "outputId": "835759de-e97a-4db2-b05e-57c067a21ea2"
      },
      "source": [
        "\n",
        "# outliners are reduced\n",
        "sns.boxplot(x=data_cleared['Y'])"
      ],
      "execution_count": 60,
      "outputs": [
        {
          "output_type": "execute_result",
          "data": {
            "text/plain": [
              "<matplotlib.axes._subplots.AxesSubplot at 0x7f1da34abfd0>"
            ]
          },
          "metadata": {
            "tags": []
          },
          "execution_count": 60
        },
        {
          "output_type": "display_data",
          "data": {
            "image/png": "[encoded data removed]",
            "text/plain": [
              "<Figure size 432x288 with 1 Axes>"
            ]
          },
          "metadata": {
            "tags": [],
            "needs_background": "light"
          }
        }
      ]
    },
    {
      "cell_type": "code",
      "metadata": {
        "colab": {
          "base_uri": "https://localhost:8080/",
          "height": 282
        },
        "id": "wPC7Om3ft6Gr",
        "outputId": "7d226908-912c-4a48-e71a-db8837651563"
      },
      "source": [
        "# scatter plot of data before data clean\n",
        "plt.scatter(data['X'],data['Y'])"
      ],
      "execution_count": 61,
      "outputs": [
        {
          "output_type": "execute_result",
          "data": {
            "text/plain": [
              "<matplotlib.collections.PathCollection at 0x7f1da344ca50>"
            ]
          },
          "metadata": {
            "tags": []
          },
          "execution_count": 61
        },
        {
          "output_type": "display_data",
          "data": {
            "image/png": "[encoded data removed]",
            "text/plain": [
              "<Figure size 432x288 with 1 Axes>"
            ]
          },
          "metadata": {
            "tags": [],
            "needs_background": "light"
          }
        }
      ]
    },
    {
      "cell_type": "code",
      "metadata": {
        "colab": {
          "base_uri": "https://localhost:8080/",
          "height": 282
        },
        "id": "Z6bPqUrHuA_u",
        "outputId": "3f32239b-09f2-407e-f648-a7d5d6a0f272"
      },
      "source": [
        "#scatter plot of data after data clean\n",
        "plt.scatter(data_cleared['X'],data_cleared['Y'])"
      ],
      "execution_count": 62,
      "outputs": [
        {
          "output_type": "execute_result",
          "data": {
            "text/plain": [
              "<matplotlib.collections.PathCollection at 0x7f1da35d2250>"
            ]
          },
          "metadata": {
            "tags": []
          },
          "execution_count": 62
        },
        {
          "output_type": "display_data",
          "data": {
            "image/png": "[encoded data removed]",
            "text/plain": [
              "<Figure size 432x288 with 1 Axes>"
            ]
          },
          "metadata": {
            "tags": [],
            "needs_background": "light"
          }
        }
      ]
    },
    {
      "cell_type": "code",
      "metadata": {
        "id": "kzsMi1bKuHju"
      },
      "source": [
        "\n",
        "data2 = data.copy()\n",
        "data = data_cleared.copy()"
      ],
      "execution_count": 63,
      "outputs": []
    },
    {
      "cell_type": "code",
      "metadata": {
        "id": "-zg4qsiEuO-9"
      },
      "source": [
        "from sklearn.model_selection import train_test_split"
      ],
      "execution_count": 64,
      "outputs": []
    },
    {
      "cell_type": "markdown",
      "metadata": {
        "id": "XfKwU6a2uWgs"
      },
      "source": [
        "Normalisation Of Data Set"
      ]
    },
    {
      "cell_type": "code",
      "metadata": {
        "colab": {
          "base_uri": "https://localhost:8080/"
        },
        "id": "Nf8PfFnquXbA",
        "outputId": "f03ac138-5d4b-494e-c36e-77e9ab8185cd"
      },
      "source": [
        "data_x = data['X']\n",
        "data_y = data['Y']\n",
        "\n",
        "# normalising the data\n",
        "data_x = (data_x - data_x.min())/(data_x.max() - data_x.min())\n",
        "data_y = (data_y - data_y.min())/(data_y.max() - data_y.min())\n",
        "data_x\n",
        "\n",
        "data_x = np.array(data_x)\n",
        "data_y = np.array(data_y)\n",
        "datas =[]\n",
        "for i in range(len(data_x)):\n",
        "  datas.append([data_x[i],data_y[i]])\n",
        "\n",
        "datas[1:10]\n"
      ],
      "execution_count": 23,
      "outputs": [
        {
          "output_type": "execute_result",
          "data": {
            "text/plain": [
              "[[0.45672191528545114, 0.364341085271318],\n",
              " [0.14917127071823194, 0.08785529715762205],\n",
              " [0.9226519337016574, 0.31524547803617503],\n",
              " [0.6206261510128914, 0.3462532299741592],\n",
              " [0.5027624309392265, 0.44444444444444364],\n",
              " [0.15101289134438312, 0.2816537467700249],\n",
              " [0.0, 0.3410852713178288],\n",
              " [0.009208103130755065, 0.34366925064599474],\n",
              " [0.22467771639042364, 0.44444444444444364]]"
            ]
          },
          "metadata": {
            "tags": []
          },
          "execution_count": 23
        }
      ]
    },
    {
      "cell_type": "code",
      "metadata": {
        "id": "_H5qhwKOup_N"
      },
      "source": [
        "# splitting of data set into training and testing\n",
        "data_train,data_test = train_test_split(datas,test_size=0.1)"
      ],
      "execution_count": 65,
      "outputs": []
    },
    {
      "cell_type": "code",
      "metadata": {
        "colab": {
          "base_uri": "https://localhost:8080/"
        },
        "id": "CE4D11o0urC-",
        "outputId": "d3ab6592-63f2-4afd-dded-26ab57f28a25"
      },
      "source": [
        "data_train"
      ],
      "execution_count": 66,
      "outputs": [
        {
          "output_type": "execute_result",
          "data": {
            "text/plain": [
              "[[0.0, 0.3410852713178288],\n",
              " [0.14917127071823194, 0.08785529715762205],\n",
              " [0.9042357274401472, 1.0],\n",
              " [0.6556169429097605, 0.0],\n",
              " [0.3425414364640883, 0.2919896640826873],\n",
              " [0.7311233885819522, 0.4625322997416009],\n",
              " [0.5027624309392265, 0.44444444444444364],\n",
              " [0.45672191528545114, 0.364341085271318],\n",
              " [0.22467771639042364, 0.44444444444444364],\n",
              " [0.1878453038674034, 0.5116279069767424],\n",
              " [1.0, 0.4599483204134365],\n",
              " [0.5948434622467771, 0.7493540051679578],\n",
              " [0.15101289134438312, 0.2816537467700249],\n",
              " [0.14917127071823194, 0.2532299741602067],\n",
              " [0.009208103130755065, 0.34366925064599474],\n",
              " [0.29834254143646416, 0.4392764857881132],\n",
              " [0.19337016574585636, 0.5271317829457353],\n",
              " [0.44014732965009196, 0.5116279069767424],\n",
              " [0.8121546961325966, 0.40310077519379856]]"
            ]
          },
          "metadata": {
            "tags": []
          },
          "execution_count": 66
        }
      ]
    },
    {
      "cell_type": "markdown",
      "metadata": {
        "id": "vyIdDtynu65f"
      },
      "source": [
        "Ready To Train The Model"
      ]
    },
    {
      "cell_type": "code",
      "metadata": {
        "colab": {
          "base_uri": "https://localhost:8080/"
        },
        "id": "Uc49b0GZu7uZ",
        "outputId": "d018c69d-3a56-49e1-d83e-f40ad039cb29"
      },
      "source": [
        "#STEP 2: initialising required parameters\n",
        "m = 1\n",
        "c = -1\n",
        "iter = 1\n",
        "epochs = 300\n",
        "alpha = 0.1\n",
        "error = []\n",
        "data_train"
      ],
      "execution_count": 67,
      "outputs": [
        {
          "output_type": "execute_result",
          "data": {
            "text/plain": [
              "[[0.0, 0.3410852713178288],\n",
              " [0.14917127071823194, 0.08785529715762205],\n",
              " [0.9042357274401472, 1.0],\n",
              " [0.6556169429097605, 0.0],\n",
              " [0.3425414364640883, 0.2919896640826873],\n",
              " [0.7311233885819522, 0.4625322997416009],\n",
              " [0.5027624309392265, 0.44444444444444364],\n",
              " [0.45672191528545114, 0.364341085271318],\n",
              " [0.22467771639042364, 0.44444444444444364],\n",
              " [0.1878453038674034, 0.5116279069767424],\n",
              " [1.0, 0.4599483204134365],\n",
              " [0.5948434622467771, 0.7493540051679578],\n",
              " [0.15101289134438312, 0.2816537467700249],\n",
              " [0.14917127071823194, 0.2532299741602067],\n",
              " [0.009208103130755065, 0.34366925064599474],\n",
              " [0.29834254143646416, 0.4392764857881132],\n",
              " [0.19337016574585636, 0.5271317829457353],\n",
              " [0.44014732965009196, 0.5116279069767424],\n",
              " [0.8121546961325966, 0.40310077519379856]]"
            ]
          },
          "metadata": {
            "tags": []
          },
          "execution_count": 67
        }
      ]
    },
    {
      "cell_type": "markdown",
      "metadata": {
        "id": "63ZQ5sOOvHP8"
      },
      "source": [
        "\n",
        "Gradient Descent Algorithm"
      ]
    },
    {
      "cell_type": "code",
      "metadata": {
        "id": "Tep8hBR8vD50"
      },
      "source": [
        "# while loop is runned until iter reaches epochs\n",
        "while (iter<=epochs):\n",
        "  # running for loop to calculate and update model parameters for each sample\n",
        "  der_m = 0\n",
        "  der_c = 0\n",
        "  err = 0\n",
        "  for i in range(0,len(data_train)):\n",
        "    # calculating derivatives of m and c\n",
        "    der_m += ((data_train[i][1] - (m * data_train[i][0]) - c ))*(data_train[i][0])\n",
        "    der_c +=  (data_train[i][1] - (m * data_train[i][0]) - c )\n",
        "\n",
        "  # computing error rate with present m and c values \n",
        "  err = (der_c)**2\n",
        "  err = (err)/(2*len(data_train))\n",
        "  error.append(err)\n",
        "\n",
        "\n",
        "  der_m = (-1)*(1/len(data_train))*der_m\n",
        "  der_c = (-1)*(1/len(data_train))*der_c\n",
        "\n",
        "  # calculating change in m and c\n",
        "  change_m = (-1)*alpha*der_m\n",
        "  change_c = (-1)*alpha*der_c\n",
        "\n",
        "  #updating m and c\n",
        "  m = m + change_m\n",
        "  c = c + change_c\n",
        "\n",
        "\n",
        "  #incrementing no of iterations\n",
        "  iter = iter + 1"
      ],
      "execution_count": 68,
      "outputs": []
    },
    {
      "cell_type": "code",
      "metadata": {
        "colab": {
          "base_uri": "https://localhost:8080/"
        },
        "id": "whzlpA9pvQ4E",
        "outputId": "98227e02-b1b0-4eac-aa6f-bb6679804712"
      },
      "source": [
        "# computed slope and y-intercept\n",
        "print(m,c)"
      ],
      "execution_count": 69,
      "outputs": [
        {
          "output_type": "stream",
          "text": [
            "0.4022480439685797 0.2476321542431627\n"
          ],
          "name": "stdout"
        }
      ]
    },
    {
      "cell_type": "code",
      "metadata": {
        "colab": {
          "base_uri": "https://localhost:8080/"
        },
        "id": "GCTZSoMPvcNL",
        "outputId": "a3e7fec2-8f91-421a-bdc7-3da809f67325"
      },
      "source": [
        "data_test = np.array(data_test)\n",
        "data_test_x = data_test[:,0]\n",
        "print(data_test_x)\n",
        "data_test_y = data_test[:,1]\n",
        "data_test_y"
      ],
      "execution_count": 70,
      "outputs": [
        {
          "output_type": "stream",
          "text": [
            "[0.92265193 0.42173112 0.62062615]\n"
          ],
          "name": "stdout"
        },
        {
          "output_type": "execute_result",
          "data": {
            "text/plain": [
              "array([0.31524548, 0.32041344, 0.34625323])"
            ]
          },
          "metadata": {
            "tags": []
          },
          "execution_count": 70
        }
      ]
    },
    {
      "cell_type": "code",
      "metadata": {
        "colab": {
          "base_uri": "https://localhost:8080/"
        },
        "id": "uCPPIOdbvf1j",
        "outputId": "623206b8-2500-4cb4-e5bd-430eed709c93"
      },
      "source": [
        "\n",
        "# predicting results of test data set\n",
        "pred = []\n",
        "for i in range(len(data_test_x)):\n",
        "  print((m*data_test_x[i]) +c)\n",
        "  pred.append((m*data_test_x[i]) +c)"
      ],
      "execution_count": 71,
      "outputs": [
        {
          "output_type": "stream",
          "text": [
            "0.618767089838482\n",
            "0.4172726737068915\n",
            "0.49727780952384665\n"
          ],
          "name": "stdout"
        }
      ]
    },
    {
      "cell_type": "markdown",
      "metadata": {
        "id": "hXH7U9oevseX"
      },
      "source": [
        "\n",
        "Mean Squared error of testing data"
      ]
    },
    {
      "cell_type": "code",
      "metadata": {
        "colab": {
          "base_uri": "https://localhost:8080/"
        },
        "id": "TCn-K6afvpfL",
        "outputId": "3b060fac-b571-4e9f-b1a1-1a8972fda974"
      },
      "source": [
        "# computig mean squared error of testing data\n",
        "mse = 0\n",
        "for i in range(0,len(data_test)):\n",
        "  mse += (data_test[i][1] - (m*data_test[i][0]) - c)**2\n",
        "mse = mse/len(data_test)\n",
        "mse"
      ],
      "execution_count": 72,
      "outputs": [
        {
          "output_type": "execute_result",
          "data": {
            "text/plain": [
              "0.041438501418079754"
            ]
          },
          "metadata": {
            "tags": []
          },
          "execution_count": 72
        }
      ]
    },
    {
      "cell_type": "markdown",
      "metadata": {
        "id": "3otHS4E1vz-4"
      },
      "source": [
        "\n",
        "Predicted Data Visualisation"
      ]
    },
    {
      "cell_type": "code",
      "metadata": {
        "colab": {
          "base_uri": "https://localhost:8080/",
          "height": 295
        },
        "id": "AO4xvNtkv06o",
        "outputId": "7985daab-69b1-4246-e6f1-2a0c0b56d72b"
      },
      "source": [
        "plt.scatter(data_test_x,data_test_y,label=\"Original Data points\")\n",
        "plt.plot(data_test_x,pred,'r',label=\"predicted regression line\")\n",
        "plt.title(\"Linear Regression using Batch Gradient Descent\")\n",
        "plt.xlabel(\"Data x\")\n",
        "plt.ylabel(\"Data y\")\n",
        "plt.grid()\n",
        "plt.legend()\n",
        "plt.show()"
      ],
      "execution_count": 73,
      "outputs": [
        {
          "output_type": "display_data",
          "data": {
            "image/png": "[encoded data removed]",
            "text/plain": [
              "<Figure size 432x288 with 1 Axes>"
            ]
          },
          "metadata": {
            "tags": [],
            "needs_background": "light"
          }
        }
      ]
    },
    {
      "cell_type": "code",
      "metadata": {
        "colab": {
          "base_uri": "https://localhost:8080/"
        },
        "id": "JqU2GwcJwKgQ",
        "outputId": "8b7be63c-120c-47c8-aa5a-03d275773014"
      },
      "source": [
        "data_train = pd.DataFrame(data_train)\n",
        "\n",
        "data_train_pred = m*data_train[0] + c\n",
        "data_train_pred"
      ],
      "execution_count": 74,
      "outputs": [
        {
          "output_type": "execute_result",
          "data": {
            "text/plain": [
              "0     0.247632\n",
              "1     0.307636\n",
              "2     0.611359\n",
              "3     0.511353\n",
              "4     0.385419\n",
              "5     0.541725\n",
              "6     0.449867\n",
              "7     0.431348\n",
              "8     0.338008\n",
              "9     0.323193\n",
              "10    0.649880\n",
              "11    0.486907\n",
              "12    0.308377\n",
              "13    0.307636\n",
              "14    0.251336\n",
              "15    0.367640\n",
              "16    0.325415\n",
              "17    0.424681\n",
              "18    0.574320\n",
              "Name: 0, dtype: float64"
            ]
          },
          "metadata": {
            "tags": []
          },
          "execution_count": 74
        }
      ]
    },
    {
      "cell_type": "code",
      "metadata": {
        "colab": {
          "base_uri": "https://localhost:8080/",
          "height": 295
        },
        "id": "RxwksBoCwfrO",
        "outputId": "3f9a1bae-10c4-4efa-9e9d-25f7a2d12bd2"
      },
      "source": [
        "\n",
        "plt.plot(data_train[0],data_train_pred,'red',label=\"Regression Line\")\n",
        "plt.scatter(data_train[0],data_train[1],label=\"original data points\")\n",
        "plt.xlabel(\"Pressure\")\n",
        "plt.ylabel(\"Weight of Liquid Nitrogen\")\n",
        "plt.legend()\n",
        "plt.grid()\n",
        "plt.title(\"Training Results Analysis\")\n",
        "plt.show()\n",
        "%matplotlib inline"
      ],
      "execution_count": 75,
      "outputs": [
        {
          "output_type": "display_data",
          "data": {
            "image/png": "[encoded data removed]",
            "text/plain": [
              "<Figure size 432x288 with 1 Axes>"
            ]
          },
          "metadata": {
            "tags": [],
            "needs_background": "light"
          }
        }
      ]
    },
    {
      "cell_type": "code",
      "metadata": {
        "colab": {
          "base_uri": "https://localhost:8080/",
          "height": 204
        },
        "id": "DarG1E52wjP5",
        "outputId": "ef03eeec-5785-4a64-d9ca-a5134044b276"
      },
      "source": [
        "data_train.head()"
      ],
      "execution_count": 76,
      "outputs": [
        {
          "output_type": "execute_result",
          "data": {
            "text/html": [
              "<div>\n",
              "<style scoped>\n",
              "    .dataframe tbody tr th:only-of-type {\n",
              "        vertical-align: middle;\n",
              "    }\n",
              "\n",
              "    .dataframe tbody tr th {\n",
              "        vertical-align: top;\n",
              "    }\n",
              "\n",
              "    .dataframe thead th {\n",
              "        text-align: right;\n",
              "    }\n",
              "</style>\n",
              "<table border=\"1\" class=\"dataframe\">\n",
              "  <thead>\n",
              "    <tr style=\"text-align: right;\">\n",
              "      <th></th>\n",
              "      <th>0</th>\n",
              "      <th>1</th>\n",
              "    </tr>\n",
              "  </thead>\n",
              "  <tbody>\n",
              "    <tr>\n",
              "      <th>0</th>\n",
              "      <td>0.000000</td>\n",
              "      <td>0.341085</td>\n",
              "    </tr>\n",
              "    <tr>\n",
              "      <th>1</th>\n",
              "      <td>0.149171</td>\n",
              "      <td>0.087855</td>\n",
              "    </tr>\n",
              "    <tr>\n",
              "      <th>2</th>\n",
              "      <td>0.904236</td>\n",
              "      <td>1.000000</td>\n",
              "    </tr>\n",
              "    <tr>\n",
              "      <th>3</th>\n",
              "      <td>0.655617</td>\n",
              "      <td>0.000000</td>\n",
              "    </tr>\n",
              "    <tr>\n",
              "      <th>4</th>\n",
              "      <td>0.342541</td>\n",
              "      <td>0.291990</td>\n",
              "    </tr>\n",
              "  </tbody>\n",
              "</table>\n",
              "</div>"
            ],
            "text/plain": [
              "          0         1\n",
              "0  0.000000  0.341085\n",
              "1  0.149171  0.087855\n",
              "2  0.904236  1.000000\n",
              "3  0.655617  0.000000\n",
              "4  0.342541  0.291990"
            ]
          },
          "metadata": {
            "tags": []
          },
          "execution_count": 76
        }
      ]
    },
    {
      "cell_type": "markdown",
      "metadata": {
        "id": "f1nCw9kGwl2Q"
      },
      "source": [
        "Error Rate Analysis"
      ]
    },
    {
      "cell_type": "code",
      "metadata": {
        "colab": {
          "base_uri": "https://localhost:8080/",
          "height": 295
        },
        "id": "rLLQjTDQwm0_",
        "outputId": "9896213b-c5c6-4199-c763-f7e1bafdc53c"
      },
      "source": [
        "\n",
        "iters = np.arange(epochs)\n",
        "plt.plot(iters,error,color='m',label=\"error rate at ith iteration\")\n",
        "plt.legend()\n",
        "plt.xlabel(\"Number of iteration\")\n",
        "plt.ylabel(\"Error Rate at particular Iteration\")\n",
        "plt.title(\"Error Analysis\")\n",
        "plt.grid()\n",
        "plt.show()"
      ],
      "execution_count": 77,
      "outputs": [
        {
          "output_type": "display_data",
          "data": {
            "image/png": "[encoded data removed]",
            "text/plain": [
              "<Figure size 432x288 with 1 Axes>"
            ]
          },
          "metadata": {
            "tags": [],
            "needs_background": "light"
          }
        }
      ]
    },
    {
      "cell_type": "markdown",
      "metadata": {
        "id": "-o78C-ZFwtOF"
      },
      "source": [
        "Mean Squared Error Of Training Data"
      ]
    },
    {
      "cell_type": "code",
      "metadata": {
        "colab": {
          "base_uri": "https://localhost:8080/"
        },
        "id": "FhzoANXBwuP0",
        "outputId": "ace47000-e54d-40f8-ceba-26215f92bffd"
      },
      "source": [
        "# computig mean squared error\n",
        "mse = 0\n",
        "mse = (data_train[1] - m*data_train[0] - c)**2\n",
        "mse.sum()/len(data_train)"
      ],
      "execution_count": 78,
      "outputs": [
        {
          "output_type": "execute_result",
          "data": {
            "text/plain": [
              "0.038724537180466374"
            ]
          },
          "metadata": {
            "tags": []
          },
          "execution_count": 78
        }
      ]
    },
    {
      "cell_type": "code",
      "metadata": {
        "colab": {
          "base_uri": "https://localhost:8080/"
        },
        "id": "-qvQsq5_wzgm",
        "outputId": "c8afa41c-31b3-47bd-beb5-cf809a2651b7"
      },
      "source": [
        "min_x = data2['X'].min()\n",
        "max_x = data2['X'].max()\n",
        "min_y = data2['Y'].min()\n",
        "max_y = data2['Y'].max()\n",
        "print(min_x,min_y,max_x,max_y)"
      ],
      "execution_count": 79,
      "outputs": [
        {
          "output_type": "stream",
          "text": [
            "62.2 406.7 120.0 578.6\n"
          ],
          "name": "stdout"
        }
      ]
    },
    {
      "cell_type": "markdown",
      "metadata": {
        "id": "ZkE3HUPfw4a0"
      },
      "source": [
        "Model Ready To Take Input and Produce Output"
      ]
    },
    {
      "cell_type": "code",
      "metadata": {
        "colab": {
          "base_uri": "https://localhost:8080/"
        },
        "id": "4T3K8TUnw5XA",
        "outputId": "cb1ae073-b974-45aa-a712-a66503b81bb0"
      },
      "source": [
        "input_x = float(input(\"enter pressure\"))\n",
        "input_x = (input_x - min_x)/(max_x - min_x)\n",
        "output_y = m*input_x + c\n",
        "output_y = (output_y)*(max_y - min_y) + min_y\n",
        "output_y"
      ],
      "execution_count": 80,
      "outputs": [
        {
          "output_type": "stream",
          "text": [
            "enter pressure75.1\n"
          ],
          "name": "stdout"
        },
        {
          "output_type": "execute_result",
          "data": {
            "text/plain": [
              "464.70030399226755"
            ]
          },
          "metadata": {
            "tags": []
          },
          "execution_count": 80
        }
      ]
    },
    {
      "cell_type": "code",
      "metadata": {
        "colab": {
          "base_uri": "https://localhost:8080/"
        },
        "id": "_FLhnuN7xDSP",
        "outputId": "84ed662b-7a46-4d19-af58-b9b7f395b9d0"
      },
      "source": [
        "\n",
        "err = 0\n",
        "for i in range(0,len(data_x)):\n",
        "  input_x = data2['X'][i]\n",
        "  input_x = (input_x - min_x)/(max_x - min_x)\n",
        "  output_y = m*input_x + c\n",
        "  output_y = (output_y)*(max_y - min_y) + min_y\n",
        "  err += (output_y-data2['Y'][i])**2\n",
        "  print(output_y,data2['Y'][i])\n",
        "\n",
        "print(\"\\n\",err)\n",
        "print(err/len(data_x))"
      ],
      "execution_count": 81,
      "outputs": [
        {
          "output_type": "stream",
          "text": [
            "464.70030399226755 577.8\n",
            "463.743259857206 577.0\n",
            "480.9700542883144 570.9\n",
            "511.9543581609329 578.6\n",
            "492.69384494281866 572.4\n",
            "508.8439647219828 411.2\n",
            "512.1936191946983 531.7\n",
            "449.2679673143997 563.9\n",
            "502.8624388778479 406.7\n",
            "483.1234035922029 507.1\n",
            "463.14510727279253 496.4\n",
            "513.3899243635252 505.2\n",
            "493.77051959476296 506.4\n",
            "486.1141665142703 510.2\n",
            "463.2647377896752 503.9\n",
            "453.45503540529404 506.2\n",
            "454.05318798970757 506.3\n",
            "468.0499584649831 510.2\n",
            "506.21209335056346 508.6\n",
            "500.9483506077248 510.9\n",
            "480.8504237714317 505.4\n",
            "482.0467289402586 512.8\n",
            "\n",
            " 89883.56366397867\n",
            "4085.6165301808487\n"
          ],
          "name": "stdout"
        }
      ]
    }
  ]
}