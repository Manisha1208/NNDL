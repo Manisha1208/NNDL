{
  "nbformat": 4,
  "nbformat_minor": 0,
  "metadata": {
    "colab": {
      "name": "Assignment_6.ipynb",
      "provenance": [],
      "authorship_tag": "ABX9TyOvwWeuFcOZkkYV3QNpBMBs",
      "include_colab_link": true
    },
    "kernelspec": {
      "name": "python3",
      "display_name": "Python 3"
    },
    "language_info": {
      "name": "python"
    }
  },
  "cells": [
    {
      "cell_type": "markdown",
      "metadata": {
        "id": "view-in-github",
        "colab_type": "text"
      },
      "source": [
        "<a href=\"https://colab.research.google.com/github/Manisha1208/NNDL/blob/main/Assignment_6.ipynb\" target=\"_parent\"><img src=\"https://colab.research.google.com/assets/colab-badge.svg\" alt=\"Open In Colab\"/></a>"
      ]
    },
    {
      "cell_type": "code",
      "metadata": {
        "id": "uhtSbx7nArdI"
      },
      "source": [
        "import numpy as np\n",
        "import matplotlib.pyplot as plt\n",
        "import pandas as pd\n",
        "from sklearn.preprocessing import minmax_scale\n",
        "from sklearn.model_selection import train_test_split\n",
        "import seaborn as sns\n",
        "from scipy import stats"
      ],
      "execution_count": 1,
      "outputs": []
    },
    {
      "cell_type": "code",
      "metadata": {
        "colab": {
          "base_uri": "https://localhost:8080/",
          "height": 427
        },
        "id": "G3hyaK4mBDu_",
        "outputId": "af5fcabd-d89a-497f-f43a-468dee241765"
      },
      "source": [
        "data = pd.read_csv(r\"/content/Assignment_6.csv\")\n",
        "data"
      ],
      "execution_count": 32,
      "outputs": [
        {
          "output_type": "execute_result",
          "data": {
            "text/html": [
              "<div>\n",
              "<style scoped>\n",
              "    .dataframe tbody tr th:only-of-type {\n",
              "        vertical-align: middle;\n",
              "    }\n",
              "\n",
              "    .dataframe tbody tr th {\n",
              "        vertical-align: top;\n",
              "    }\n",
              "\n",
              "    .dataframe thead th {\n",
              "        text-align: right;\n",
              "    }\n",
              "</style>\n",
              "<table border=\"1\" class=\"dataframe\">\n",
              "  <thead>\n",
              "    <tr style=\"text-align: right;\">\n",
              "      <th></th>\n",
              "      <th>id</th>\n",
              "      <th>date</th>\n",
              "      <th>price</th>\n",
              "      <th>bedrooms</th>\n",
              "      <th>bathrooms</th>\n",
              "      <th>sqft_living</th>\n",
              "      <th>sqft_lot</th>\n",
              "      <th>floors</th>\n",
              "      <th>waterfront</th>\n",
              "      <th>view</th>\n",
              "      <th>condition</th>\n",
              "      <th>grade</th>\n",
              "      <th>sqft_above</th>\n",
              "      <th>sqft_basement</th>\n",
              "      <th>yr_built</th>\n",
              "      <th>yr_renovated</th>\n",
              "      <th>zipcode</th>\n",
              "      <th>lat</th>\n",
              "      <th>long</th>\n",
              "      <th>sqft_living15</th>\n",
              "      <th>sqft_lot15</th>\n",
              "    </tr>\n",
              "  </thead>\n",
              "  <tbody>\n",
              "    <tr>\n",
              "      <th>0</th>\n",
              "      <td>7129300520</td>\n",
              "      <td>20141013T000000</td>\n",
              "      <td>221900.0</td>\n",
              "      <td>3</td>\n",
              "      <td>1.00</td>\n",
              "      <td>1180</td>\n",
              "      <td>5650</td>\n",
              "      <td>1.0</td>\n",
              "      <td>0</td>\n",
              "      <td>0</td>\n",
              "      <td>3</td>\n",
              "      <td>7</td>\n",
              "      <td>1180</td>\n",
              "      <td>0</td>\n",
              "      <td>1955</td>\n",
              "      <td>0</td>\n",
              "      <td>98178</td>\n",
              "      <td>47.5112</td>\n",
              "      <td>-122.257</td>\n",
              "      <td>1340</td>\n",
              "      <td>5650</td>\n",
              "    </tr>\n",
              "    <tr>\n",
              "      <th>1</th>\n",
              "      <td>6414100192</td>\n",
              "      <td>20141209T000000</td>\n",
              "      <td>538000.0</td>\n",
              "      <td>3</td>\n",
              "      <td>2.25</td>\n",
              "      <td>2570</td>\n",
              "      <td>7242</td>\n",
              "      <td>2.0</td>\n",
              "      <td>0</td>\n",
              "      <td>0</td>\n",
              "      <td>3</td>\n",
              "      <td>7</td>\n",
              "      <td>2170</td>\n",
              "      <td>400</td>\n",
              "      <td>1951</td>\n",
              "      <td>1991</td>\n",
              "      <td>98125</td>\n",
              "      <td>47.7210</td>\n",
              "      <td>-122.319</td>\n",
              "      <td>1690</td>\n",
              "      <td>7639</td>\n",
              "    </tr>\n",
              "    <tr>\n",
              "      <th>2</th>\n",
              "      <td>5631500400</td>\n",
              "      <td>20150225T000000</td>\n",
              "      <td>180000.0</td>\n",
              "      <td>2</td>\n",
              "      <td>1.00</td>\n",
              "      <td>770</td>\n",
              "      <td>10000</td>\n",
              "      <td>1.0</td>\n",
              "      <td>0</td>\n",
              "      <td>0</td>\n",
              "      <td>3</td>\n",
              "      <td>6</td>\n",
              "      <td>770</td>\n",
              "      <td>0</td>\n",
              "      <td>1933</td>\n",
              "      <td>0</td>\n",
              "      <td>98028</td>\n",
              "      <td>47.7379</td>\n",
              "      <td>-122.233</td>\n",
              "      <td>2720</td>\n",
              "      <td>8062</td>\n",
              "    </tr>\n",
              "    <tr>\n",
              "      <th>3</th>\n",
              "      <td>2487200875</td>\n",
              "      <td>20141209T000000</td>\n",
              "      <td>604000.0</td>\n",
              "      <td>4</td>\n",
              "      <td>3.00</td>\n",
              "      <td>1960</td>\n",
              "      <td>5000</td>\n",
              "      <td>1.0</td>\n",
              "      <td>0</td>\n",
              "      <td>0</td>\n",
              "      <td>5</td>\n",
              "      <td>7</td>\n",
              "      <td>1050</td>\n",
              "      <td>910</td>\n",
              "      <td>1965</td>\n",
              "      <td>0</td>\n",
              "      <td>98136</td>\n",
              "      <td>47.5208</td>\n",
              "      <td>-122.393</td>\n",
              "      <td>1360</td>\n",
              "      <td>5000</td>\n",
              "    </tr>\n",
              "    <tr>\n",
              "      <th>4</th>\n",
              "      <td>1954400510</td>\n",
              "      <td>20150218T000000</td>\n",
              "      <td>510000.0</td>\n",
              "      <td>3</td>\n",
              "      <td>2.00</td>\n",
              "      <td>1680</td>\n",
              "      <td>8080</td>\n",
              "      <td>1.0</td>\n",
              "      <td>0</td>\n",
              "      <td>0</td>\n",
              "      <td>3</td>\n",
              "      <td>8</td>\n",
              "      <td>1680</td>\n",
              "      <td>0</td>\n",
              "      <td>1987</td>\n",
              "      <td>0</td>\n",
              "      <td>98074</td>\n",
              "      <td>47.6168</td>\n",
              "      <td>-122.045</td>\n",
              "      <td>1800</td>\n",
              "      <td>7503</td>\n",
              "    </tr>\n",
              "    <tr>\n",
              "      <th>...</th>\n",
              "      <td>...</td>\n",
              "      <td>...</td>\n",
              "      <td>...</td>\n",
              "      <td>...</td>\n",
              "      <td>...</td>\n",
              "      <td>...</td>\n",
              "      <td>...</td>\n",
              "      <td>...</td>\n",
              "      <td>...</td>\n",
              "      <td>...</td>\n",
              "      <td>...</td>\n",
              "      <td>...</td>\n",
              "      <td>...</td>\n",
              "      <td>...</td>\n",
              "      <td>...</td>\n",
              "      <td>...</td>\n",
              "      <td>...</td>\n",
              "      <td>...</td>\n",
              "      <td>...</td>\n",
              "      <td>...</td>\n",
              "      <td>...</td>\n",
              "    </tr>\n",
              "    <tr>\n",
              "      <th>21608</th>\n",
              "      <td>263000018</td>\n",
              "      <td>20140521T000000</td>\n",
              "      <td>360000.0</td>\n",
              "      <td>3</td>\n",
              "      <td>2.50</td>\n",
              "      <td>1530</td>\n",
              "      <td>1131</td>\n",
              "      <td>3.0</td>\n",
              "      <td>0</td>\n",
              "      <td>0</td>\n",
              "      <td>3</td>\n",
              "      <td>8</td>\n",
              "      <td>1530</td>\n",
              "      <td>0</td>\n",
              "      <td>2009</td>\n",
              "      <td>0</td>\n",
              "      <td>98103</td>\n",
              "      <td>47.6993</td>\n",
              "      <td>-122.346</td>\n",
              "      <td>1530</td>\n",
              "      <td>1509</td>\n",
              "    </tr>\n",
              "    <tr>\n",
              "      <th>21609</th>\n",
              "      <td>6600060120</td>\n",
              "      <td>20150223T000000</td>\n",
              "      <td>400000.0</td>\n",
              "      <td>4</td>\n",
              "      <td>2.50</td>\n",
              "      <td>2310</td>\n",
              "      <td>5813</td>\n",
              "      <td>2.0</td>\n",
              "      <td>0</td>\n",
              "      <td>0</td>\n",
              "      <td>3</td>\n",
              "      <td>8</td>\n",
              "      <td>2310</td>\n",
              "      <td>0</td>\n",
              "      <td>2014</td>\n",
              "      <td>0</td>\n",
              "      <td>98146</td>\n",
              "      <td>47.5107</td>\n",
              "      <td>-122.362</td>\n",
              "      <td>1830</td>\n",
              "      <td>7200</td>\n",
              "    </tr>\n",
              "    <tr>\n",
              "      <th>21610</th>\n",
              "      <td>1523300141</td>\n",
              "      <td>20140623T000000</td>\n",
              "      <td>402101.0</td>\n",
              "      <td>2</td>\n",
              "      <td>0.75</td>\n",
              "      <td>1020</td>\n",
              "      <td>1350</td>\n",
              "      <td>2.0</td>\n",
              "      <td>0</td>\n",
              "      <td>0</td>\n",
              "      <td>3</td>\n",
              "      <td>7</td>\n",
              "      <td>1020</td>\n",
              "      <td>0</td>\n",
              "      <td>2009</td>\n",
              "      <td>0</td>\n",
              "      <td>98144</td>\n",
              "      <td>47.5944</td>\n",
              "      <td>-122.299</td>\n",
              "      <td>1020</td>\n",
              "      <td>2007</td>\n",
              "    </tr>\n",
              "    <tr>\n",
              "      <th>21611</th>\n",
              "      <td>291310100</td>\n",
              "      <td>20150116T000000</td>\n",
              "      <td>400000.0</td>\n",
              "      <td>3</td>\n",
              "      <td>2.50</td>\n",
              "      <td>1600</td>\n",
              "      <td>2388</td>\n",
              "      <td>2.0</td>\n",
              "      <td>0</td>\n",
              "      <td>0</td>\n",
              "      <td>3</td>\n",
              "      <td>8</td>\n",
              "      <td>1600</td>\n",
              "      <td>0</td>\n",
              "      <td>2004</td>\n",
              "      <td>0</td>\n",
              "      <td>98027</td>\n",
              "      <td>47.5345</td>\n",
              "      <td>-122.069</td>\n",
              "      <td>1410</td>\n",
              "      <td>1287</td>\n",
              "    </tr>\n",
              "    <tr>\n",
              "      <th>21612</th>\n",
              "      <td>1523300157</td>\n",
              "      <td>20141015T000000</td>\n",
              "      <td>325000.0</td>\n",
              "      <td>2</td>\n",
              "      <td>0.75</td>\n",
              "      <td>1020</td>\n",
              "      <td>1076</td>\n",
              "      <td>2.0</td>\n",
              "      <td>0</td>\n",
              "      <td>0</td>\n",
              "      <td>3</td>\n",
              "      <td>7</td>\n",
              "      <td>1020</td>\n",
              "      <td>0</td>\n",
              "      <td>2008</td>\n",
              "      <td>0</td>\n",
              "      <td>98144</td>\n",
              "      <td>47.5941</td>\n",
              "      <td>-122.299</td>\n",
              "      <td>1020</td>\n",
              "      <td>1357</td>\n",
              "    </tr>\n",
              "  </tbody>\n",
              "</table>\n",
              "<p>21613 rows × 21 columns</p>\n",
              "</div>"
            ],
            "text/plain": [
              "               id             date  ...  sqft_living15  sqft_lot15\n",
              "0      7129300520  20141013T000000  ...           1340        5650\n",
              "1      6414100192  20141209T000000  ...           1690        7639\n",
              "2      5631500400  20150225T000000  ...           2720        8062\n",
              "3      2487200875  20141209T000000  ...           1360        5000\n",
              "4      1954400510  20150218T000000  ...           1800        7503\n",
              "...           ...              ...  ...            ...         ...\n",
              "21608   263000018  20140521T000000  ...           1530        1509\n",
              "21609  6600060120  20150223T000000  ...           1830        7200\n",
              "21610  1523300141  20140623T000000  ...           1020        2007\n",
              "21611   291310100  20150116T000000  ...           1410        1287\n",
              "21612  1523300157  20141015T000000  ...           1020        1357\n",
              "\n",
              "[21613 rows x 21 columns]"
            ]
          },
          "metadata": {
            "tags": []
          },
          "execution_count": 32
        }
      ]
    },
    {
      "cell_type": "code",
      "metadata": {
        "colab": {
          "base_uri": "https://localhost:8080/"
        },
        "id": "KF26625zBOgj",
        "outputId": "f9fa48ac-d829-4215-a5dd-20ca113a8d4d"
      },
      "source": [
        "data.info()"
      ],
      "execution_count": 33,
      "outputs": [
        {
          "output_type": "stream",
          "text": [
            "<class 'pandas.core.frame.DataFrame'>\n",
            "RangeIndex: 21613 entries, 0 to 21612\n",
            "Data columns (total 21 columns):\n",
            " #   Column         Non-Null Count  Dtype  \n",
            "---  ------         --------------  -----  \n",
            " 0   id             21613 non-null  int64  \n",
            " 1   date           21613 non-null  object \n",
            " 2   price          21613 non-null  float64\n",
            " 3   bedrooms       21613 non-null  int64  \n",
            " 4   bathrooms      21613 non-null  float64\n",
            " 5   sqft_living    21613 non-null  int64  \n",
            " 6   sqft_lot       21613 non-null  int64  \n",
            " 7   floors         21613 non-null  float64\n",
            " 8   waterfront     21613 non-null  int64  \n",
            " 9   view           21613 non-null  int64  \n",
            " 10  condition      21613 non-null  int64  \n",
            " 11  grade          21613 non-null  int64  \n",
            " 12  sqft_above     21613 non-null  int64  \n",
            " 13  sqft_basement  21613 non-null  int64  \n",
            " 14  yr_built       21613 non-null  int64  \n",
            " 15  yr_renovated   21613 non-null  int64  \n",
            " 16  zipcode        21613 non-null  int64  \n",
            " 17  lat            21613 non-null  float64\n",
            " 18  long           21613 non-null  float64\n",
            " 19  sqft_living15  21613 non-null  int64  \n",
            " 20  sqft_lot15     21613 non-null  int64  \n",
            "dtypes: float64(5), int64(15), object(1)\n",
            "memory usage: 3.5+ MB\n"
          ],
          "name": "stdout"
        }
      ]
    },
    {
      "cell_type": "code",
      "metadata": {
        "colab": {
          "base_uri": "https://localhost:8080/",
          "height": 308
        },
        "id": "1Cpj97g3B4aK",
        "outputId": "1d597f7e-0796-4150-e8db-ba2b7335b8a0"
      },
      "source": [
        "data.describe()"
      ],
      "execution_count": 34,
      "outputs": [
        {
          "output_type": "execute_result",
          "data": {
            "text/html": [
              "<div>\n",
              "<style scoped>\n",
              "    .dataframe tbody tr th:only-of-type {\n",
              "        vertical-align: middle;\n",
              "    }\n",
              "\n",
              "    .dataframe tbody tr th {\n",
              "        vertical-align: top;\n",
              "    }\n",
              "\n",
              "    .dataframe thead th {\n",
              "        text-align: right;\n",
              "    }\n",
              "</style>\n",
              "<table border=\"1\" class=\"dataframe\">\n",
              "  <thead>\n",
              "    <tr style=\"text-align: right;\">\n",
              "      <th></th>\n",
              "      <th>id</th>\n",
              "      <th>price</th>\n",
              "      <th>bedrooms</th>\n",
              "      <th>bathrooms</th>\n",
              "      <th>sqft_living</th>\n",
              "      <th>sqft_lot</th>\n",
              "      <th>floors</th>\n",
              "      <th>waterfront</th>\n",
              "      <th>view</th>\n",
              "      <th>condition</th>\n",
              "      <th>grade</th>\n",
              "      <th>sqft_above</th>\n",
              "      <th>sqft_basement</th>\n",
              "      <th>yr_built</th>\n",
              "      <th>yr_renovated</th>\n",
              "      <th>zipcode</th>\n",
              "      <th>lat</th>\n",
              "      <th>long</th>\n",
              "      <th>sqft_living15</th>\n",
              "      <th>sqft_lot15</th>\n",
              "    </tr>\n",
              "  </thead>\n",
              "  <tbody>\n",
              "    <tr>\n",
              "      <th>count</th>\n",
              "      <td>2.161300e+04</td>\n",
              "      <td>2.161300e+04</td>\n",
              "      <td>21613.000000</td>\n",
              "      <td>21613.000000</td>\n",
              "      <td>21613.000000</td>\n",
              "      <td>2.161300e+04</td>\n",
              "      <td>21613.000000</td>\n",
              "      <td>21613.000000</td>\n",
              "      <td>21613.000000</td>\n",
              "      <td>21613.000000</td>\n",
              "      <td>21613.000000</td>\n",
              "      <td>21613.000000</td>\n",
              "      <td>21613.000000</td>\n",
              "      <td>21613.000000</td>\n",
              "      <td>21613.000000</td>\n",
              "      <td>21613.000000</td>\n",
              "      <td>21613.000000</td>\n",
              "      <td>21613.000000</td>\n",
              "      <td>21613.000000</td>\n",
              "      <td>21613.000000</td>\n",
              "    </tr>\n",
              "    <tr>\n",
              "      <th>mean</th>\n",
              "      <td>4.580302e+09</td>\n",
              "      <td>5.401822e+05</td>\n",
              "      <td>3.370842</td>\n",
              "      <td>2.114757</td>\n",
              "      <td>2079.899736</td>\n",
              "      <td>1.510697e+04</td>\n",
              "      <td>1.494309</td>\n",
              "      <td>0.007542</td>\n",
              "      <td>0.234303</td>\n",
              "      <td>3.409430</td>\n",
              "      <td>7.656873</td>\n",
              "      <td>1788.390691</td>\n",
              "      <td>291.509045</td>\n",
              "      <td>1971.005136</td>\n",
              "      <td>84.402258</td>\n",
              "      <td>98077.939805</td>\n",
              "      <td>47.560053</td>\n",
              "      <td>-122.213896</td>\n",
              "      <td>1986.552492</td>\n",
              "      <td>12768.455652</td>\n",
              "    </tr>\n",
              "    <tr>\n",
              "      <th>std</th>\n",
              "      <td>2.876566e+09</td>\n",
              "      <td>3.673622e+05</td>\n",
              "      <td>0.930062</td>\n",
              "      <td>0.770163</td>\n",
              "      <td>918.440897</td>\n",
              "      <td>4.142051e+04</td>\n",
              "      <td>0.539989</td>\n",
              "      <td>0.086517</td>\n",
              "      <td>0.766318</td>\n",
              "      <td>0.650743</td>\n",
              "      <td>1.175459</td>\n",
              "      <td>828.090978</td>\n",
              "      <td>442.575043</td>\n",
              "      <td>29.373411</td>\n",
              "      <td>401.679240</td>\n",
              "      <td>53.505026</td>\n",
              "      <td>0.138564</td>\n",
              "      <td>0.140828</td>\n",
              "      <td>685.391304</td>\n",
              "      <td>27304.179631</td>\n",
              "    </tr>\n",
              "    <tr>\n",
              "      <th>min</th>\n",
              "      <td>1.000102e+06</td>\n",
              "      <td>7.500000e+04</td>\n",
              "      <td>0.000000</td>\n",
              "      <td>0.000000</td>\n",
              "      <td>290.000000</td>\n",
              "      <td>5.200000e+02</td>\n",
              "      <td>1.000000</td>\n",
              "      <td>0.000000</td>\n",
              "      <td>0.000000</td>\n",
              "      <td>1.000000</td>\n",
              "      <td>1.000000</td>\n",
              "      <td>290.000000</td>\n",
              "      <td>0.000000</td>\n",
              "      <td>1900.000000</td>\n",
              "      <td>0.000000</td>\n",
              "      <td>98001.000000</td>\n",
              "      <td>47.155900</td>\n",
              "      <td>-122.519000</td>\n",
              "      <td>399.000000</td>\n",
              "      <td>651.000000</td>\n",
              "    </tr>\n",
              "    <tr>\n",
              "      <th>25%</th>\n",
              "      <td>2.123049e+09</td>\n",
              "      <td>3.219500e+05</td>\n",
              "      <td>3.000000</td>\n",
              "      <td>1.750000</td>\n",
              "      <td>1427.000000</td>\n",
              "      <td>5.040000e+03</td>\n",
              "      <td>1.000000</td>\n",
              "      <td>0.000000</td>\n",
              "      <td>0.000000</td>\n",
              "      <td>3.000000</td>\n",
              "      <td>7.000000</td>\n",
              "      <td>1190.000000</td>\n",
              "      <td>0.000000</td>\n",
              "      <td>1951.000000</td>\n",
              "      <td>0.000000</td>\n",
              "      <td>98033.000000</td>\n",
              "      <td>47.471000</td>\n",
              "      <td>-122.328000</td>\n",
              "      <td>1490.000000</td>\n",
              "      <td>5100.000000</td>\n",
              "    </tr>\n",
              "    <tr>\n",
              "      <th>50%</th>\n",
              "      <td>3.904930e+09</td>\n",
              "      <td>4.500000e+05</td>\n",
              "      <td>3.000000</td>\n",
              "      <td>2.250000</td>\n",
              "      <td>1910.000000</td>\n",
              "      <td>7.618000e+03</td>\n",
              "      <td>1.500000</td>\n",
              "      <td>0.000000</td>\n",
              "      <td>0.000000</td>\n",
              "      <td>3.000000</td>\n",
              "      <td>7.000000</td>\n",
              "      <td>1560.000000</td>\n",
              "      <td>0.000000</td>\n",
              "      <td>1975.000000</td>\n",
              "      <td>0.000000</td>\n",
              "      <td>98065.000000</td>\n",
              "      <td>47.571800</td>\n",
              "      <td>-122.230000</td>\n",
              "      <td>1840.000000</td>\n",
              "      <td>7620.000000</td>\n",
              "    </tr>\n",
              "    <tr>\n",
              "      <th>75%</th>\n",
              "      <td>7.308900e+09</td>\n",
              "      <td>6.450000e+05</td>\n",
              "      <td>4.000000</td>\n",
              "      <td>2.500000</td>\n",
              "      <td>2550.000000</td>\n",
              "      <td>1.068800e+04</td>\n",
              "      <td>2.000000</td>\n",
              "      <td>0.000000</td>\n",
              "      <td>0.000000</td>\n",
              "      <td>4.000000</td>\n",
              "      <td>8.000000</td>\n",
              "      <td>2210.000000</td>\n",
              "      <td>560.000000</td>\n",
              "      <td>1997.000000</td>\n",
              "      <td>0.000000</td>\n",
              "      <td>98118.000000</td>\n",
              "      <td>47.678000</td>\n",
              "      <td>-122.125000</td>\n",
              "      <td>2360.000000</td>\n",
              "      <td>10083.000000</td>\n",
              "    </tr>\n",
              "    <tr>\n",
              "      <th>max</th>\n",
              "      <td>9.900000e+09</td>\n",
              "      <td>7.700000e+06</td>\n",
              "      <td>33.000000</td>\n",
              "      <td>8.000000</td>\n",
              "      <td>13540.000000</td>\n",
              "      <td>1.651359e+06</td>\n",
              "      <td>3.500000</td>\n",
              "      <td>1.000000</td>\n",
              "      <td>4.000000</td>\n",
              "      <td>5.000000</td>\n",
              "      <td>13.000000</td>\n",
              "      <td>9410.000000</td>\n",
              "      <td>4820.000000</td>\n",
              "      <td>2015.000000</td>\n",
              "      <td>2015.000000</td>\n",
              "      <td>98199.000000</td>\n",
              "      <td>47.777600</td>\n",
              "      <td>-121.315000</td>\n",
              "      <td>6210.000000</td>\n",
              "      <td>871200.000000</td>\n",
              "    </tr>\n",
              "  </tbody>\n",
              "</table>\n",
              "</div>"
            ],
            "text/plain": [
              "                 id         price  ...  sqft_living15     sqft_lot15\n",
              "count  2.161300e+04  2.161300e+04  ...   21613.000000   21613.000000\n",
              "mean   4.580302e+09  5.401822e+05  ...    1986.552492   12768.455652\n",
              "std    2.876566e+09  3.673622e+05  ...     685.391304   27304.179631\n",
              "min    1.000102e+06  7.500000e+04  ...     399.000000     651.000000\n",
              "25%    2.123049e+09  3.219500e+05  ...    1490.000000    5100.000000\n",
              "50%    3.904930e+09  4.500000e+05  ...    1840.000000    7620.000000\n",
              "75%    7.308900e+09  6.450000e+05  ...    2360.000000   10083.000000\n",
              "max    9.900000e+09  7.700000e+06  ...    6210.000000  871200.000000\n",
              "\n",
              "[8 rows x 20 columns]"
            ]
          },
          "metadata": {
            "tags": []
          },
          "execution_count": 34
        }
      ]
    },
    {
      "cell_type": "code",
      "metadata": {
        "colab": {
          "base_uri": "https://localhost:8080/",
          "height": 668
        },
        "id": "ZbN52UO-B-EG",
        "outputId": "d003a0a4-f3dc-49eb-d1b3-937cfd9b1c3b"
      },
      "source": [
        "data.corr()"
      ],
      "execution_count": 35,
      "outputs": [
        {
          "output_type": "execute_result",
          "data": {
            "text/html": [
              "<div>\n",
              "<style scoped>\n",
              "    .dataframe tbody tr th:only-of-type {\n",
              "        vertical-align: middle;\n",
              "    }\n",
              "\n",
              "    .dataframe tbody tr th {\n",
              "        vertical-align: top;\n",
              "    }\n",
              "\n",
              "    .dataframe thead th {\n",
              "        text-align: right;\n",
              "    }\n",
              "</style>\n",
              "<table border=\"1\" class=\"dataframe\">\n",
              "  <thead>\n",
              "    <tr style=\"text-align: right;\">\n",
              "      <th></th>\n",
              "      <th>id</th>\n",
              "      <th>price</th>\n",
              "      <th>bedrooms</th>\n",
              "      <th>bathrooms</th>\n",
              "      <th>sqft_living</th>\n",
              "      <th>sqft_lot</th>\n",
              "      <th>floors</th>\n",
              "      <th>waterfront</th>\n",
              "      <th>view</th>\n",
              "      <th>condition</th>\n",
              "      <th>grade</th>\n",
              "      <th>sqft_above</th>\n",
              "      <th>sqft_basement</th>\n",
              "      <th>yr_built</th>\n",
              "      <th>yr_renovated</th>\n",
              "      <th>zipcode</th>\n",
              "      <th>lat</th>\n",
              "      <th>long</th>\n",
              "      <th>sqft_living15</th>\n",
              "      <th>sqft_lot15</th>\n",
              "    </tr>\n",
              "  </thead>\n",
              "  <tbody>\n",
              "    <tr>\n",
              "      <th>id</th>\n",
              "      <td>1.000000</td>\n",
              "      <td>-0.016797</td>\n",
              "      <td>0.001286</td>\n",
              "      <td>0.005160</td>\n",
              "      <td>-0.012258</td>\n",
              "      <td>-0.132109</td>\n",
              "      <td>0.018525</td>\n",
              "      <td>-0.002721</td>\n",
              "      <td>0.011592</td>\n",
              "      <td>-0.023783</td>\n",
              "      <td>0.008130</td>\n",
              "      <td>-0.010842</td>\n",
              "      <td>-0.005151</td>\n",
              "      <td>0.021380</td>\n",
              "      <td>-0.016907</td>\n",
              "      <td>-0.008224</td>\n",
              "      <td>-0.001891</td>\n",
              "      <td>0.020799</td>\n",
              "      <td>-0.002901</td>\n",
              "      <td>-0.138798</td>\n",
              "    </tr>\n",
              "    <tr>\n",
              "      <th>price</th>\n",
              "      <td>-0.016797</td>\n",
              "      <td>1.000000</td>\n",
              "      <td>0.308338</td>\n",
              "      <td>0.525134</td>\n",
              "      <td>0.702044</td>\n",
              "      <td>0.089655</td>\n",
              "      <td>0.256786</td>\n",
              "      <td>0.266331</td>\n",
              "      <td>0.397346</td>\n",
              "      <td>0.036392</td>\n",
              "      <td>0.667463</td>\n",
              "      <td>0.605566</td>\n",
              "      <td>0.323837</td>\n",
              "      <td>0.053982</td>\n",
              "      <td>0.126442</td>\n",
              "      <td>-0.053168</td>\n",
              "      <td>0.306919</td>\n",
              "      <td>0.021571</td>\n",
              "      <td>0.585374</td>\n",
              "      <td>0.082456</td>\n",
              "    </tr>\n",
              "    <tr>\n",
              "      <th>bedrooms</th>\n",
              "      <td>0.001286</td>\n",
              "      <td>0.308338</td>\n",
              "      <td>1.000000</td>\n",
              "      <td>0.515884</td>\n",
              "      <td>0.576671</td>\n",
              "      <td>0.031703</td>\n",
              "      <td>0.175429</td>\n",
              "      <td>-0.006582</td>\n",
              "      <td>0.079532</td>\n",
              "      <td>0.028472</td>\n",
              "      <td>0.356967</td>\n",
              "      <td>0.477600</td>\n",
              "      <td>0.303093</td>\n",
              "      <td>0.154178</td>\n",
              "      <td>0.018841</td>\n",
              "      <td>-0.152668</td>\n",
              "      <td>-0.008931</td>\n",
              "      <td>0.129473</td>\n",
              "      <td>0.391638</td>\n",
              "      <td>0.029244</td>\n",
              "    </tr>\n",
              "    <tr>\n",
              "      <th>bathrooms</th>\n",
              "      <td>0.005160</td>\n",
              "      <td>0.525134</td>\n",
              "      <td>0.515884</td>\n",
              "      <td>1.000000</td>\n",
              "      <td>0.754665</td>\n",
              "      <td>0.087740</td>\n",
              "      <td>0.500653</td>\n",
              "      <td>0.063744</td>\n",
              "      <td>0.187737</td>\n",
              "      <td>-0.124982</td>\n",
              "      <td>0.664983</td>\n",
              "      <td>0.685342</td>\n",
              "      <td>0.283770</td>\n",
              "      <td>0.506019</td>\n",
              "      <td>0.050739</td>\n",
              "      <td>-0.203866</td>\n",
              "      <td>0.024573</td>\n",
              "      <td>0.223042</td>\n",
              "      <td>0.568634</td>\n",
              "      <td>0.087175</td>\n",
              "    </tr>\n",
              "    <tr>\n",
              "      <th>sqft_living</th>\n",
              "      <td>-0.012258</td>\n",
              "      <td>0.702044</td>\n",
              "      <td>0.576671</td>\n",
              "      <td>0.754665</td>\n",
              "      <td>1.000000</td>\n",
              "      <td>0.172826</td>\n",
              "      <td>0.353949</td>\n",
              "      <td>0.103818</td>\n",
              "      <td>0.284611</td>\n",
              "      <td>-0.058753</td>\n",
              "      <td>0.762704</td>\n",
              "      <td>0.876597</td>\n",
              "      <td>0.435043</td>\n",
              "      <td>0.318049</td>\n",
              "      <td>0.055363</td>\n",
              "      <td>-0.199430</td>\n",
              "      <td>0.052529</td>\n",
              "      <td>0.240223</td>\n",
              "      <td>0.756420</td>\n",
              "      <td>0.183286</td>\n",
              "    </tr>\n",
              "    <tr>\n",
              "      <th>sqft_lot</th>\n",
              "      <td>-0.132109</td>\n",
              "      <td>0.089655</td>\n",
              "      <td>0.031703</td>\n",
              "      <td>0.087740</td>\n",
              "      <td>0.172826</td>\n",
              "      <td>1.000000</td>\n",
              "      <td>-0.005201</td>\n",
              "      <td>0.021604</td>\n",
              "      <td>0.074710</td>\n",
              "      <td>-0.008958</td>\n",
              "      <td>0.113621</td>\n",
              "      <td>0.183512</td>\n",
              "      <td>0.015286</td>\n",
              "      <td>0.053080</td>\n",
              "      <td>0.007644</td>\n",
              "      <td>-0.129574</td>\n",
              "      <td>-0.085683</td>\n",
              "      <td>0.229521</td>\n",
              "      <td>0.144608</td>\n",
              "      <td>0.718557</td>\n",
              "    </tr>\n",
              "    <tr>\n",
              "      <th>floors</th>\n",
              "      <td>0.018525</td>\n",
              "      <td>0.256786</td>\n",
              "      <td>0.175429</td>\n",
              "      <td>0.500653</td>\n",
              "      <td>0.353949</td>\n",
              "      <td>-0.005201</td>\n",
              "      <td>1.000000</td>\n",
              "      <td>0.023698</td>\n",
              "      <td>0.029444</td>\n",
              "      <td>-0.263768</td>\n",
              "      <td>0.458183</td>\n",
              "      <td>0.523885</td>\n",
              "      <td>-0.245705</td>\n",
              "      <td>0.489319</td>\n",
              "      <td>0.006338</td>\n",
              "      <td>-0.059121</td>\n",
              "      <td>0.049614</td>\n",
              "      <td>0.125419</td>\n",
              "      <td>0.279885</td>\n",
              "      <td>-0.011269</td>\n",
              "    </tr>\n",
              "    <tr>\n",
              "      <th>waterfront</th>\n",
              "      <td>-0.002721</td>\n",
              "      <td>0.266331</td>\n",
              "      <td>-0.006582</td>\n",
              "      <td>0.063744</td>\n",
              "      <td>0.103818</td>\n",
              "      <td>0.021604</td>\n",
              "      <td>0.023698</td>\n",
              "      <td>1.000000</td>\n",
              "      <td>0.401857</td>\n",
              "      <td>0.016653</td>\n",
              "      <td>0.082775</td>\n",
              "      <td>0.072075</td>\n",
              "      <td>0.080588</td>\n",
              "      <td>-0.026161</td>\n",
              "      <td>0.092885</td>\n",
              "      <td>0.030285</td>\n",
              "      <td>-0.014274</td>\n",
              "      <td>-0.041910</td>\n",
              "      <td>0.086463</td>\n",
              "      <td>0.030703</td>\n",
              "    </tr>\n",
              "    <tr>\n",
              "      <th>view</th>\n",
              "      <td>0.011592</td>\n",
              "      <td>0.397346</td>\n",
              "      <td>0.079532</td>\n",
              "      <td>0.187737</td>\n",
              "      <td>0.284611</td>\n",
              "      <td>0.074710</td>\n",
              "      <td>0.029444</td>\n",
              "      <td>0.401857</td>\n",
              "      <td>1.000000</td>\n",
              "      <td>0.045990</td>\n",
              "      <td>0.251321</td>\n",
              "      <td>0.167649</td>\n",
              "      <td>0.276947</td>\n",
              "      <td>-0.053440</td>\n",
              "      <td>0.103917</td>\n",
              "      <td>0.084827</td>\n",
              "      <td>0.006157</td>\n",
              "      <td>-0.078400</td>\n",
              "      <td>0.280439</td>\n",
              "      <td>0.072575</td>\n",
              "    </tr>\n",
              "    <tr>\n",
              "      <th>condition</th>\n",
              "      <td>-0.023783</td>\n",
              "      <td>0.036392</td>\n",
              "      <td>0.028472</td>\n",
              "      <td>-0.124982</td>\n",
              "      <td>-0.058753</td>\n",
              "      <td>-0.008958</td>\n",
              "      <td>-0.263768</td>\n",
              "      <td>0.016653</td>\n",
              "      <td>0.045990</td>\n",
              "      <td>1.000000</td>\n",
              "      <td>-0.144674</td>\n",
              "      <td>-0.158214</td>\n",
              "      <td>0.174105</td>\n",
              "      <td>-0.361417</td>\n",
              "      <td>-0.060618</td>\n",
              "      <td>0.003026</td>\n",
              "      <td>-0.014941</td>\n",
              "      <td>-0.106500</td>\n",
              "      <td>-0.092824</td>\n",
              "      <td>-0.003406</td>\n",
              "    </tr>\n",
              "    <tr>\n",
              "      <th>grade</th>\n",
              "      <td>0.008130</td>\n",
              "      <td>0.667463</td>\n",
              "      <td>0.356967</td>\n",
              "      <td>0.664983</td>\n",
              "      <td>0.762704</td>\n",
              "      <td>0.113621</td>\n",
              "      <td>0.458183</td>\n",
              "      <td>0.082775</td>\n",
              "      <td>0.251321</td>\n",
              "      <td>-0.144674</td>\n",
              "      <td>1.000000</td>\n",
              "      <td>0.755923</td>\n",
              "      <td>0.168392</td>\n",
              "      <td>0.446963</td>\n",
              "      <td>0.014414</td>\n",
              "      <td>-0.184862</td>\n",
              "      <td>0.114084</td>\n",
              "      <td>0.198372</td>\n",
              "      <td>0.713202</td>\n",
              "      <td>0.119248</td>\n",
              "    </tr>\n",
              "    <tr>\n",
              "      <th>sqft_above</th>\n",
              "      <td>-0.010842</td>\n",
              "      <td>0.605566</td>\n",
              "      <td>0.477600</td>\n",
              "      <td>0.685342</td>\n",
              "      <td>0.876597</td>\n",
              "      <td>0.183512</td>\n",
              "      <td>0.523885</td>\n",
              "      <td>0.072075</td>\n",
              "      <td>0.167649</td>\n",
              "      <td>-0.158214</td>\n",
              "      <td>0.755923</td>\n",
              "      <td>1.000000</td>\n",
              "      <td>-0.051943</td>\n",
              "      <td>0.423898</td>\n",
              "      <td>0.023285</td>\n",
              "      <td>-0.261190</td>\n",
              "      <td>-0.000816</td>\n",
              "      <td>0.343803</td>\n",
              "      <td>0.731870</td>\n",
              "      <td>0.194050</td>\n",
              "    </tr>\n",
              "    <tr>\n",
              "      <th>sqft_basement</th>\n",
              "      <td>-0.005151</td>\n",
              "      <td>0.323837</td>\n",
              "      <td>0.303093</td>\n",
              "      <td>0.283770</td>\n",
              "      <td>0.435043</td>\n",
              "      <td>0.015286</td>\n",
              "      <td>-0.245705</td>\n",
              "      <td>0.080588</td>\n",
              "      <td>0.276947</td>\n",
              "      <td>0.174105</td>\n",
              "      <td>0.168392</td>\n",
              "      <td>-0.051943</td>\n",
              "      <td>1.000000</td>\n",
              "      <td>-0.133124</td>\n",
              "      <td>0.071323</td>\n",
              "      <td>0.074845</td>\n",
              "      <td>0.110538</td>\n",
              "      <td>-0.144765</td>\n",
              "      <td>0.200355</td>\n",
              "      <td>0.017276</td>\n",
              "    </tr>\n",
              "    <tr>\n",
              "      <th>yr_built</th>\n",
              "      <td>0.021380</td>\n",
              "      <td>0.053982</td>\n",
              "      <td>0.154178</td>\n",
              "      <td>0.506019</td>\n",
              "      <td>0.318049</td>\n",
              "      <td>0.053080</td>\n",
              "      <td>0.489319</td>\n",
              "      <td>-0.026161</td>\n",
              "      <td>-0.053440</td>\n",
              "      <td>-0.361417</td>\n",
              "      <td>0.446963</td>\n",
              "      <td>0.423898</td>\n",
              "      <td>-0.133124</td>\n",
              "      <td>1.000000</td>\n",
              "      <td>-0.224874</td>\n",
              "      <td>-0.346869</td>\n",
              "      <td>-0.148122</td>\n",
              "      <td>0.409356</td>\n",
              "      <td>0.326229</td>\n",
              "      <td>0.070958</td>\n",
              "    </tr>\n",
              "    <tr>\n",
              "      <th>yr_renovated</th>\n",
              "      <td>-0.016907</td>\n",
              "      <td>0.126442</td>\n",
              "      <td>0.018841</td>\n",
              "      <td>0.050739</td>\n",
              "      <td>0.055363</td>\n",
              "      <td>0.007644</td>\n",
              "      <td>0.006338</td>\n",
              "      <td>0.092885</td>\n",
              "      <td>0.103917</td>\n",
              "      <td>-0.060618</td>\n",
              "      <td>0.014414</td>\n",
              "      <td>0.023285</td>\n",
              "      <td>0.071323</td>\n",
              "      <td>-0.224874</td>\n",
              "      <td>1.000000</td>\n",
              "      <td>0.064357</td>\n",
              "      <td>0.029398</td>\n",
              "      <td>-0.068372</td>\n",
              "      <td>-0.002673</td>\n",
              "      <td>0.007854</td>\n",
              "    </tr>\n",
              "    <tr>\n",
              "      <th>zipcode</th>\n",
              "      <td>-0.008224</td>\n",
              "      <td>-0.053168</td>\n",
              "      <td>-0.152668</td>\n",
              "      <td>-0.203866</td>\n",
              "      <td>-0.199430</td>\n",
              "      <td>-0.129574</td>\n",
              "      <td>-0.059121</td>\n",
              "      <td>0.030285</td>\n",
              "      <td>0.084827</td>\n",
              "      <td>0.003026</td>\n",
              "      <td>-0.184862</td>\n",
              "      <td>-0.261190</td>\n",
              "      <td>0.074845</td>\n",
              "      <td>-0.346869</td>\n",
              "      <td>0.064357</td>\n",
              "      <td>1.000000</td>\n",
              "      <td>0.267048</td>\n",
              "      <td>-0.564072</td>\n",
              "      <td>-0.279033</td>\n",
              "      <td>-0.147221</td>\n",
              "    </tr>\n",
              "    <tr>\n",
              "      <th>lat</th>\n",
              "      <td>-0.001891</td>\n",
              "      <td>0.306919</td>\n",
              "      <td>-0.008931</td>\n",
              "      <td>0.024573</td>\n",
              "      <td>0.052529</td>\n",
              "      <td>-0.085683</td>\n",
              "      <td>0.049614</td>\n",
              "      <td>-0.014274</td>\n",
              "      <td>0.006157</td>\n",
              "      <td>-0.014941</td>\n",
              "      <td>0.114084</td>\n",
              "      <td>-0.000816</td>\n",
              "      <td>0.110538</td>\n",
              "      <td>-0.148122</td>\n",
              "      <td>0.029398</td>\n",
              "      <td>0.267048</td>\n",
              "      <td>1.000000</td>\n",
              "      <td>-0.135512</td>\n",
              "      <td>0.048858</td>\n",
              "      <td>-0.086419</td>\n",
              "    </tr>\n",
              "    <tr>\n",
              "      <th>long</th>\n",
              "      <td>0.020799</td>\n",
              "      <td>0.021571</td>\n",
              "      <td>0.129473</td>\n",
              "      <td>0.223042</td>\n",
              "      <td>0.240223</td>\n",
              "      <td>0.229521</td>\n",
              "      <td>0.125419</td>\n",
              "      <td>-0.041910</td>\n",
              "      <td>-0.078400</td>\n",
              "      <td>-0.106500</td>\n",
              "      <td>0.198372</td>\n",
              "      <td>0.343803</td>\n",
              "      <td>-0.144765</td>\n",
              "      <td>0.409356</td>\n",
              "      <td>-0.068372</td>\n",
              "      <td>-0.564072</td>\n",
              "      <td>-0.135512</td>\n",
              "      <td>1.000000</td>\n",
              "      <td>0.334605</td>\n",
              "      <td>0.254451</td>\n",
              "    </tr>\n",
              "    <tr>\n",
              "      <th>sqft_living15</th>\n",
              "      <td>-0.002901</td>\n",
              "      <td>0.585374</td>\n",
              "      <td>0.391638</td>\n",
              "      <td>0.568634</td>\n",
              "      <td>0.756420</td>\n",
              "      <td>0.144608</td>\n",
              "      <td>0.279885</td>\n",
              "      <td>0.086463</td>\n",
              "      <td>0.280439</td>\n",
              "      <td>-0.092824</td>\n",
              "      <td>0.713202</td>\n",
              "      <td>0.731870</td>\n",
              "      <td>0.200355</td>\n",
              "      <td>0.326229</td>\n",
              "      <td>-0.002673</td>\n",
              "      <td>-0.279033</td>\n",
              "      <td>0.048858</td>\n",
              "      <td>0.334605</td>\n",
              "      <td>1.000000</td>\n",
              "      <td>0.183192</td>\n",
              "    </tr>\n",
              "    <tr>\n",
              "      <th>sqft_lot15</th>\n",
              "      <td>-0.138798</td>\n",
              "      <td>0.082456</td>\n",
              "      <td>0.029244</td>\n",
              "      <td>0.087175</td>\n",
              "      <td>0.183286</td>\n",
              "      <td>0.718557</td>\n",
              "      <td>-0.011269</td>\n",
              "      <td>0.030703</td>\n",
              "      <td>0.072575</td>\n",
              "      <td>-0.003406</td>\n",
              "      <td>0.119248</td>\n",
              "      <td>0.194050</td>\n",
              "      <td>0.017276</td>\n",
              "      <td>0.070958</td>\n",
              "      <td>0.007854</td>\n",
              "      <td>-0.147221</td>\n",
              "      <td>-0.086419</td>\n",
              "      <td>0.254451</td>\n",
              "      <td>0.183192</td>\n",
              "      <td>1.000000</td>\n",
              "    </tr>\n",
              "  </tbody>\n",
              "</table>\n",
              "</div>"
            ],
            "text/plain": [
              "                     id     price  ...  sqft_living15  sqft_lot15\n",
              "id             1.000000 -0.016797  ...      -0.002901   -0.138798\n",
              "price         -0.016797  1.000000  ...       0.585374    0.082456\n",
              "bedrooms       0.001286  0.308338  ...       0.391638    0.029244\n",
              "bathrooms      0.005160  0.525134  ...       0.568634    0.087175\n",
              "sqft_living   -0.012258  0.702044  ...       0.756420    0.183286\n",
              "sqft_lot      -0.132109  0.089655  ...       0.144608    0.718557\n",
              "floors         0.018525  0.256786  ...       0.279885   -0.011269\n",
              "waterfront    -0.002721  0.266331  ...       0.086463    0.030703\n",
              "view           0.011592  0.397346  ...       0.280439    0.072575\n",
              "condition     -0.023783  0.036392  ...      -0.092824   -0.003406\n",
              "grade          0.008130  0.667463  ...       0.713202    0.119248\n",
              "sqft_above    -0.010842  0.605566  ...       0.731870    0.194050\n",
              "sqft_basement -0.005151  0.323837  ...       0.200355    0.017276\n",
              "yr_built       0.021380  0.053982  ...       0.326229    0.070958\n",
              "yr_renovated  -0.016907  0.126442  ...      -0.002673    0.007854\n",
              "zipcode       -0.008224 -0.053168  ...      -0.279033   -0.147221\n",
              "lat           -0.001891  0.306919  ...       0.048858   -0.086419\n",
              "long           0.020799  0.021571  ...       0.334605    0.254451\n",
              "sqft_living15 -0.002901  0.585374  ...       1.000000    0.183192\n",
              "sqft_lot15    -0.138798  0.082456  ...       0.183192    1.000000\n",
              "\n",
              "[20 rows x 20 columns]"
            ]
          },
          "metadata": {
            "tags": []
          },
          "execution_count": 35
        }
      ]
    },
    {
      "cell_type": "code",
      "metadata": {
        "colab": {
          "base_uri": "https://localhost:8080/"
        },
        "id": "d-Usnqy_CC94",
        "outputId": "0af05aef-823b-4e53-c05b-4ebce1e73c83"
      },
      "source": [
        "data.isnull().sum()"
      ],
      "execution_count": 36,
      "outputs": [
        {
          "output_type": "execute_result",
          "data": {
            "text/plain": [
              "id               0\n",
              "date             0\n",
              "price            0\n",
              "bedrooms         0\n",
              "bathrooms        0\n",
              "sqft_living      0\n",
              "sqft_lot         0\n",
              "floors           0\n",
              "waterfront       0\n",
              "view             0\n",
              "condition        0\n",
              "grade            0\n",
              "sqft_above       0\n",
              "sqft_basement    0\n",
              "yr_built         0\n",
              "yr_renovated     0\n",
              "zipcode          0\n",
              "lat              0\n",
              "long             0\n",
              "sqft_living15    0\n",
              "sqft_lot15       0\n",
              "dtype: int64"
            ]
          },
          "metadata": {
            "tags": []
          },
          "execution_count": 36
        }
      ]
    },
    {
      "cell_type": "code",
      "metadata": {
        "id": "kCrPUH5HCI1C"
      },
      "source": [
        "data_x = df['sqft_living']\n",
        "data_y = df['price']"
      ],
      "execution_count": 37,
      "outputs": []
    },
    {
      "cell_type": "code",
      "metadata": {
        "colab": {
          "base_uri": "https://localhost:8080/",
          "height": 308
        },
        "id": "Ja47VlGLCYSV",
        "outputId": "cfec77f2-3704-4bb0-b2bc-416339dcb3fb"
      },
      "source": [
        "plt.scatter(data_x,data_y)\n",
        "plt.xlabel(\"house sqt feet\")\n",
        "plt.ylabel(\"price of house\")"
      ],
      "execution_count": 38,
      "outputs": [
        {
          "output_type": "execute_result",
          "data": {
            "text/plain": [
              "Text(0, 0.5, 'price of house')"
            ]
          },
          "metadata": {
            "tags": []
          },
          "execution_count": 38
        },
        {
          "output_type": "display_data",
          "data": {
            "image/png": "[encoded data removed]",
            "text/plain": [
              "<Figure size 432x288 with 1 Axes>"
            ]
          },
          "metadata": {
            "tags": [],
            "needs_background": "light"
          }
        }
      ]
    },
    {
      "cell_type": "code",
      "metadata": {
        "colab": {
          "base_uri": "https://localhost:8080/",
          "height": 298
        },
        "id": "7GtnrT4zCeMS",
        "outputId": "99f2a7b1-3197-482d-a85d-cceeaf380306"
      },
      "source": [
        "sns.boxplot(x=df['sqft_living'])"
      ],
      "execution_count": 39,
      "outputs": [
        {
          "output_type": "execute_result",
          "data": {
            "text/plain": [
              "<matplotlib.axes._subplots.AxesSubplot at 0x7f0ba63e8a10>"
            ]
          },
          "metadata": {
            "tags": []
          },
          "execution_count": 39
        },
        {
          "output_type": "display_data",
          "data": {
            "image/png": "[encoded data removed]",
            "text/plain": [
              "<Figure size 432x288 with 1 Axes>"
            ]
          },
          "metadata": {
            "tags": [],
            "needs_background": "light"
          }
        }
      ]
    },
    {
      "cell_type": "code",
      "metadata": {
        "colab": {
          "base_uri": "https://localhost:8080/",
          "height": 297
        },
        "id": "Aef1xzTaCjgv",
        "outputId": "630509c4-5997-4c64-faea-fc8c10375671"
      },
      "source": [
        "sns.boxplot(x=df['price'])"
      ],
      "execution_count": 13,
      "outputs": [
        {
          "output_type": "execute_result",
          "data": {
            "text/plain": [
              "<matplotlib.axes._subplots.AxesSubplot at 0x7f0ba69d0ed0>"
            ]
          },
          "metadata": {
            "tags": []
          },
          "execution_count": 13
        },
        {
          "output_type": "display_data",
          "data": {
            "image/png": "[encoded data removed]",
            "text/plain": [
              "<Figure size 432x288 with 1 Axes>"
            ]
          },
          "metadata": {
            "tags": [],
            "needs_background": "light"
          }
        }
      ]
    },
    {
      "cell_type": "code",
      "metadata": {
        "colab": {
          "base_uri": "https://localhost:8080/"
        },
        "id": "Ued3shNMCpAT",
        "outputId": "a78268fd-3f9e-440f-fd76-673f9030269c"
      },
      "source": [
        "df = df[['sqft_living','price']]\n",
        "z = np.abs(stats.zscore(df))\n",
        "filter = df[(z < 3).all(axis=1)]\n",
        "print(filter)\n",
        "print(\"\\nlength of data:\",len(df))\n",
        "print(\"lenth of filter:\",len(filter))"
      ],
      "execution_count": 40,
      "outputs": [
        {
          "output_type": "stream",
          "text": [
            "       sqft_living     price\n",
            "0             1180  221900.0\n",
            "1             2570  538000.0\n",
            "2              770  180000.0\n",
            "3             1960  604000.0\n",
            "4             1680  510000.0\n",
            "...            ...       ...\n",
            "21608         1530  360000.0\n",
            "21609         2310  400000.0\n",
            "21610         1020  402101.0\n",
            "21611         1600  400000.0\n",
            "21612         1020  325000.0\n",
            "\n",
            "[21088 rows x 2 columns]\n",
            "\n",
            "length of data: 21613\n",
            "lenth of filter: 21088\n"
          ],
          "name": "stdout"
        }
      ]
    },
    {
      "cell_type": "code",
      "metadata": {
        "colab": {
          "base_uri": "https://localhost:8080/",
          "height": 298
        },
        "id": "jPQgaEbKDnZP",
        "outputId": "f3f16d7e-88b9-40f4-f550-3b6afcc88cde"
      },
      "source": [
        "sns.boxplot(x=filter['sqft_living'])"
      ],
      "execution_count": 41,
      "outputs": [
        {
          "output_type": "execute_result",
          "data": {
            "text/plain": [
              "<matplotlib.axes._subplots.AxesSubplot at 0x7f0ba635ef90>"
            ]
          },
          "metadata": {
            "tags": []
          },
          "execution_count": 41
        },
        {
          "output_type": "display_data",
          "data": {
            "image/png": "[encoded data removed]",
            "text/plain": [
              "<Figure size 432x288 with 1 Axes>"
            ]
          },
          "metadata": {
            "tags": [],
            "needs_background": "light"
          }
        }
      ]
    },
    {
      "cell_type": "code",
      "metadata": {
        "colab": {
          "base_uri": "https://localhost:8080/",
          "height": 297
        },
        "id": "z_Qd6PNXDqqh",
        "outputId": "6626f842-7593-47ba-96d1-77ed811db2d5"
      },
      "source": [
        "sns.boxplot(x=filter['price'])"
      ],
      "execution_count": 42,
      "outputs": [
        {
          "output_type": "execute_result",
          "data": {
            "text/plain": [
              "<matplotlib.axes._subplots.AxesSubplot at 0x7f0ba62c2650>"
            ]
          },
          "metadata": {
            "tags": []
          },
          "execution_count": 42
        },
        {
          "output_type": "display_data",
          "data": {
            "image/png": "[encoded data removed]",
            "text/plain": [
              "<Figure size 432x288 with 1 Axes>"
            ]
          },
          "metadata": {
            "tags": [],
            "needs_background": "light"
          }
        }
      ]
    },
    {
      "cell_type": "code",
      "metadata": {
        "colab": {
          "base_uri": "https://localhost:8080/",
          "height": 407
        },
        "id": "BQsapFyoDxu5",
        "outputId": "57c37e81-0e55-42c4-e94b-90209d6b8ba1"
      },
      "source": [
        "df"
      ],
      "execution_count": 43,
      "outputs": [
        {
          "output_type": "execute_result",
          "data": {
            "text/html": [
              "<div>\n",
              "<style scoped>\n",
              "    .dataframe tbody tr th:only-of-type {\n",
              "        vertical-align: middle;\n",
              "    }\n",
              "\n",
              "    .dataframe tbody tr th {\n",
              "        vertical-align: top;\n",
              "    }\n",
              "\n",
              "    .dataframe thead th {\n",
              "        text-align: right;\n",
              "    }\n",
              "</style>\n",
              "<table border=\"1\" class=\"dataframe\">\n",
              "  <thead>\n",
              "    <tr style=\"text-align: right;\">\n",
              "      <th></th>\n",
              "      <th>sqft_living</th>\n",
              "      <th>price</th>\n",
              "    </tr>\n",
              "  </thead>\n",
              "  <tbody>\n",
              "    <tr>\n",
              "      <th>0</th>\n",
              "      <td>1180</td>\n",
              "      <td>221900.0</td>\n",
              "    </tr>\n",
              "    <tr>\n",
              "      <th>1</th>\n",
              "      <td>2570</td>\n",
              "      <td>538000.0</td>\n",
              "    </tr>\n",
              "    <tr>\n",
              "      <th>2</th>\n",
              "      <td>770</td>\n",
              "      <td>180000.0</td>\n",
              "    </tr>\n",
              "    <tr>\n",
              "      <th>3</th>\n",
              "      <td>1960</td>\n",
              "      <td>604000.0</td>\n",
              "    </tr>\n",
              "    <tr>\n",
              "      <th>4</th>\n",
              "      <td>1680</td>\n",
              "      <td>510000.0</td>\n",
              "    </tr>\n",
              "    <tr>\n",
              "      <th>...</th>\n",
              "      <td>...</td>\n",
              "      <td>...</td>\n",
              "    </tr>\n",
              "    <tr>\n",
              "      <th>21608</th>\n",
              "      <td>1530</td>\n",
              "      <td>360000.0</td>\n",
              "    </tr>\n",
              "    <tr>\n",
              "      <th>21609</th>\n",
              "      <td>2310</td>\n",
              "      <td>400000.0</td>\n",
              "    </tr>\n",
              "    <tr>\n",
              "      <th>21610</th>\n",
              "      <td>1020</td>\n",
              "      <td>402101.0</td>\n",
              "    </tr>\n",
              "    <tr>\n",
              "      <th>21611</th>\n",
              "      <td>1600</td>\n",
              "      <td>400000.0</td>\n",
              "    </tr>\n",
              "    <tr>\n",
              "      <th>21612</th>\n",
              "      <td>1020</td>\n",
              "      <td>325000.0</td>\n",
              "    </tr>\n",
              "  </tbody>\n",
              "</table>\n",
              "<p>21613 rows × 2 columns</p>\n",
              "</div>"
            ],
            "text/plain": [
              "       sqft_living     price\n",
              "0             1180  221900.0\n",
              "1             2570  538000.0\n",
              "2              770  180000.0\n",
              "3             1960  604000.0\n",
              "4             1680  510000.0\n",
              "...            ...       ...\n",
              "21608         1530  360000.0\n",
              "21609         2310  400000.0\n",
              "21610         1020  402101.0\n",
              "21611         1600  400000.0\n",
              "21612         1020  325000.0\n",
              "\n",
              "[21613 rows x 2 columns]"
            ]
          },
          "metadata": {
            "tags": []
          },
          "execution_count": 43
        }
      ]
    },
    {
      "cell_type": "code",
      "metadata": {
        "colab": {
          "base_uri": "https://localhost:8080/",
          "height": 295
        },
        "id": "hPL2x0uKD20x",
        "outputId": "cd048bbd-4f03-40ed-d5a3-32b586caf19f"
      },
      "source": [
        "plt.scatter(filter['sqft_living'],filter['price'])"
      ],
      "execution_count": 44,
      "outputs": [
        {
          "output_type": "execute_result",
          "data": {
            "text/plain": [
              "<matplotlib.collections.PathCollection at 0x7f0ba62441d0>"
            ]
          },
          "metadata": {
            "tags": []
          },
          "execution_count": 44
        },
        {
          "output_type": "display_data",
          "data": {
            "image/png": "[encoded data removed]",
            "text/plain": [
              "<Figure size 432x288 with 1 Axes>"
            ]
          },
          "metadata": {
            "tags": [],
            "needs_background": "light"
          }
        }
      ]
    },
    {
      "cell_type": "code",
      "metadata": {
        "colab": {
          "base_uri": "https://localhost:8080/"
        },
        "id": "rg2_vgmRD25b",
        "outputId": "3e14c435-93b9-428c-efb6-84cb01c8d895"
      },
      "source": [
        "q1 = df.quantile(0.25)\n",
        "q3 = df.quantile(0.75)\n",
        "iqr = q3 - q1\n",
        "iqr"
      ],
      "execution_count": 45,
      "outputs": [
        {
          "output_type": "execute_result",
          "data": {
            "text/plain": [
              "sqft_living      1123.0\n",
              "price          323050.0\n",
              "dtype: float64"
            ]
          },
          "metadata": {
            "tags": []
          },
          "execution_count": 45
        }
      ]
    },
    {
      "cell_type": "code",
      "metadata": {
        "colab": {
          "base_uri": "https://localhost:8080/"
        },
        "id": "WNbcmhj5D_T8",
        "outputId": "156a9afc-71af-41ff-83ab-22a905bb8da6"
      },
      "source": [
        "print((data < (q1 - iqr*1.5)) | (data > (q3 + iqr*1.5)))"
      ],
      "execution_count": 46,
      "outputs": [
        {
          "output_type": "stream",
          "text": [
            "       bathrooms  bedrooms  condition  ...  yr_built  yr_renovated  zipcode\n",
            "0          False     False      False  ...     False         False    False\n",
            "1          False     False      False  ...     False         False    False\n",
            "2          False     False      False  ...     False         False    False\n",
            "3          False     False      False  ...     False         False    False\n",
            "4          False     False      False  ...     False         False    False\n",
            "...          ...       ...        ...  ...       ...           ...      ...\n",
            "21608      False     False      False  ...     False         False    False\n",
            "21609      False     False      False  ...     False         False    False\n",
            "21610      False     False      False  ...     False         False    False\n",
            "21611      False     False      False  ...     False         False    False\n",
            "21612      False     False      False  ...     False         False    False\n",
            "\n",
            "[21613 rows x 21 columns]\n"
          ],
          "name": "stdout"
        }
      ]
    },
    {
      "cell_type": "code",
      "metadata": {
        "colab": {
          "base_uri": "https://localhost:8080/"
        },
        "id": "GGjj5Of_EDmZ",
        "outputId": "20775358-524c-473b-85a5-22d2d7916800"
      },
      "source": [
        "df.shape"
      ],
      "execution_count": 47,
      "outputs": [
        {
          "output_type": "execute_result",
          "data": {
            "text/plain": [
              "(21613, 2)"
            ]
          },
          "metadata": {
            "tags": []
          },
          "execution_count": 47
        }
      ]
    },
    {
      "cell_type": "code",
      "metadata": {
        "colab": {
          "base_uri": "https://localhost:8080/"
        },
        "id": "9PWB_BSXEKaJ",
        "outputId": "17e0d775-c435-416d-b89c-789f0a884f48"
      },
      "source": [
        "data_cleared = df[~((data < (q1 - 1.5 * iqr)) |(data > (q3 + 1.5 * iqr))).any(axis=1)]\n",
        "data_cleared.shape"
      ],
      "execution_count": 48,
      "outputs": [
        {
          "output_type": "execute_result",
          "data": {
            "text/plain": [
              "(20280, 2)"
            ]
          },
          "metadata": {
            "tags": []
          },
          "execution_count": 48
        }
      ]
    },
    {
      "cell_type": "code",
      "metadata": {
        "colab": {
          "base_uri": "https://localhost:8080/",
          "height": 298
        },
        "id": "3l6oboq2ENSh",
        "outputId": "36805f5f-216c-4a3c-cb74-78ab836019bf"
      },
      "source": [
        "sns.boxplot(x=data_cleared['sqft_living'])"
      ],
      "execution_count": 49,
      "outputs": [
        {
          "output_type": "execute_result",
          "data": {
            "text/plain": [
              "<matplotlib.axes._subplots.AxesSubplot at 0x7f0ba62b1ed0>"
            ]
          },
          "metadata": {
            "tags": []
          },
          "execution_count": 49
        },
        {
          "output_type": "display_data",
          "data": {
            "image/png": "[encoded data removed]",
            "text/plain": [
              "<Figure size 432x288 with 1 Axes>"
            ]
          },
          "metadata": {
            "tags": [],
            "needs_background": "light"
          }
        }
      ]
    },
    {
      "cell_type": "code",
      "metadata": {
        "colab": {
          "base_uri": "https://localhost:8080/",
          "height": 297
        },
        "id": "TaYXjnWvESSE",
        "outputId": "f36eb5e5-ae97-4353-9aa9-6079af454e6a"
      },
      "source": [
        "sns.boxplot(x=data_cleared['price'])"
      ],
      "execution_count": 50,
      "outputs": [
        {
          "output_type": "execute_result",
          "data": {
            "text/plain": [
              "<matplotlib.axes._subplots.AxesSubplot at 0x7f0ba6199590>"
            ]
          },
          "metadata": {
            "tags": []
          },
          "execution_count": 50
        },
        {
          "output_type": "display_data",
          "data": {
            "image/png": "[encoded data removed]",
            "text/plain": [
              "<Figure size 432x288 with 1 Axes>"
            ]
          },
          "metadata": {
            "tags": [],
            "needs_background": "light"
          }
        }
      ]
    },
    {
      "cell_type": "code",
      "metadata": {
        "colab": {
          "base_uri": "https://localhost:8080/",
          "height": 295
        },
        "id": "VylDZU94ETNa",
        "outputId": "4fbd966b-ec28-4ebb-99fb-41449857363f"
      },
      "source": [
        "plt.scatter(data_x,data_y)"
      ],
      "execution_count": 51,
      "outputs": [
        {
          "output_type": "execute_result",
          "data": {
            "text/plain": [
              "<matplotlib.collections.PathCollection at 0x7f0ba6113110>"
            ]
          },
          "metadata": {
            "tags": []
          },
          "execution_count": 51
        },
        {
          "output_type": "display_data",
          "data": {
            "image/png": "[encoded data removed]",
            "text/plain": [
              "<Figure size 432x288 with 1 Axes>"
            ]
          },
          "metadata": {
            "tags": [],
            "needs_background": "light"
          }
        }
      ]
    },
    {
      "cell_type": "code",
      "metadata": {
        "colab": {
          "base_uri": "https://localhost:8080/",
          "height": 295
        },
        "id": "TimodtnpEW7h",
        "outputId": "93b22619-03f8-4b4d-eb55-7293e4f22c35"
      },
      "source": [
        "plt.scatter(data_cleared['sqft_living'],data_cleared['price'])"
      ],
      "execution_count": 52,
      "outputs": [
        {
          "output_type": "execute_result",
          "data": {
            "text/plain": [
              "<matplotlib.collections.PathCollection at 0x7f0ba6076290>"
            ]
          },
          "metadata": {
            "tags": []
          },
          "execution_count": 52
        },
        {
          "output_type": "display_data",
          "data": {
            "image/png": "[encoded data removed]",
            "text/plain": [
              "<Figure size 432x288 with 1 Axes>"
            ]
          },
          "metadata": {
            "tags": [],
            "needs_background": "light"
          }
        }
      ]
    },
    {
      "cell_type": "code",
      "metadata": {
        "colab": {
          "base_uri": "https://localhost:8080/"
        },
        "id": "laXmhfX8EbHS",
        "outputId": "7075d6b0-5e77-40b9-972e-ace62009c7b4"
      },
      "source": [
        "data_cleared.shape"
      ],
      "execution_count": 53,
      "outputs": [
        {
          "output_type": "execute_result",
          "data": {
            "text/plain": [
              "(20280, 2)"
            ]
          },
          "metadata": {
            "tags": []
          },
          "execution_count": 53
        }
      ]
    },
    {
      "cell_type": "code",
      "metadata": {
        "id": "y4fh1-FAEehb"
      },
      "source": [
        "data_x = data_cleared['sqft_living']\n",
        "data_y = data_cleared['price']"
      ],
      "execution_count": 54,
      "outputs": []
    },
    {
      "cell_type": "markdown",
      "metadata": {
        "id": "9CpF8GksEkV4"
      },
      "source": [
        "Normalisation of data set"
      ]
    },
    {
      "cell_type": "code",
      "metadata": {
        "id": "PBDloKwDElhy"
      },
      "source": [
        "data_x = (data_x - data_x.min())/(data_x.max() - data_x.min())\n",
        "data_y = (data_y - data_y.min())/(data_y.max() - data_y.min())\n",
        "data_x = np.array(data_x)\n",
        "data_y = np.array(data_y)"
      ],
      "execution_count": 55,
      "outputs": []
    },
    {
      "cell_type": "code",
      "metadata": {
        "id": "Ka5OZQebErz_"
      },
      "source": [
        "data2 = data_cleared.copy()"
      ],
      "execution_count": 56,
      "outputs": []
    },
    {
      "cell_type": "code",
      "metadata": {
        "colab": {
          "base_uri": "https://localhost:8080/"
        },
        "id": "1s_BvExCEvwu",
        "outputId": "1f4a9972-89a5-49fb-a1f6-12eccc3af37b"
      },
      "source": [
        "data_new = []\n",
        "for i in range(len(data_x)):\n",
        "    data_new.append([data_x[i],data_y[i]])\n",
        "data_new[:5]"
      ],
      "execution_count": 57,
      "outputs": [
        {
          "output_type": "execute_result",
          "data": {
            "text/plain": [
              "[[0.22588832487309646, 0.14057416267942582],\n",
              " [0.5786802030456852, 0.4430622009569378],\n",
              " [0.1218274111675127, 0.10047846889952153],\n",
              " [0.42385786802030456, 0.5062200956937799],\n",
              " [0.35279187817258884, 0.41626794258373206]]"
            ]
          },
          "metadata": {
            "tags": []
          },
          "execution_count": 57
        }
      ]
    },
    {
      "cell_type": "code",
      "metadata": {
        "colab": {
          "base_uri": "https://localhost:8080/",
          "height": 407
        },
        "id": "nlFWWmJHEwpH",
        "outputId": "053d47fd-dbf2-43d5-888c-d9efc88de4c1"
      },
      "source": [
        "data_new = pd.DataFrame(data_new,columns=['sqft_living','price'])\n",
        "data_new"
      ],
      "execution_count": 58,
      "outputs": [
        {
          "output_type": "execute_result",
          "data": {
            "text/html": [
              "<div>\n",
              "<style scoped>\n",
              "    .dataframe tbody tr th:only-of-type {\n",
              "        vertical-align: middle;\n",
              "    }\n",
              "\n",
              "    .dataframe tbody tr th {\n",
              "        vertical-align: top;\n",
              "    }\n",
              "\n",
              "    .dataframe thead th {\n",
              "        text-align: right;\n",
              "    }\n",
              "</style>\n",
              "<table border=\"1\" class=\"dataframe\">\n",
              "  <thead>\n",
              "    <tr style=\"text-align: right;\">\n",
              "      <th></th>\n",
              "      <th>sqft_living</th>\n",
              "      <th>price</th>\n",
              "    </tr>\n",
              "  </thead>\n",
              "  <tbody>\n",
              "    <tr>\n",
              "      <th>0</th>\n",
              "      <td>0.225888</td>\n",
              "      <td>0.140574</td>\n",
              "    </tr>\n",
              "    <tr>\n",
              "      <th>1</th>\n",
              "      <td>0.578680</td>\n",
              "      <td>0.443062</td>\n",
              "    </tr>\n",
              "    <tr>\n",
              "      <th>2</th>\n",
              "      <td>0.121827</td>\n",
              "      <td>0.100478</td>\n",
              "    </tr>\n",
              "    <tr>\n",
              "      <th>3</th>\n",
              "      <td>0.423858</td>\n",
              "      <td>0.506220</td>\n",
              "    </tr>\n",
              "    <tr>\n",
              "      <th>4</th>\n",
              "      <td>0.352792</td>\n",
              "      <td>0.416268</td>\n",
              "    </tr>\n",
              "    <tr>\n",
              "      <th>...</th>\n",
              "      <td>...</td>\n",
              "      <td>...</td>\n",
              "    </tr>\n",
              "    <tr>\n",
              "      <th>20275</th>\n",
              "      <td>0.314721</td>\n",
              "      <td>0.272727</td>\n",
              "    </tr>\n",
              "    <tr>\n",
              "      <th>20276</th>\n",
              "      <td>0.512690</td>\n",
              "      <td>0.311005</td>\n",
              "    </tr>\n",
              "    <tr>\n",
              "      <th>20277</th>\n",
              "      <td>0.185279</td>\n",
              "      <td>0.313015</td>\n",
              "    </tr>\n",
              "    <tr>\n",
              "      <th>20278</th>\n",
              "      <td>0.332487</td>\n",
              "      <td>0.311005</td>\n",
              "    </tr>\n",
              "    <tr>\n",
              "      <th>20279</th>\n",
              "      <td>0.185279</td>\n",
              "      <td>0.239234</td>\n",
              "    </tr>\n",
              "  </tbody>\n",
              "</table>\n",
              "<p>20280 rows × 2 columns</p>\n",
              "</div>"
            ],
            "text/plain": [
              "       sqft_living     price\n",
              "0         0.225888  0.140574\n",
              "1         0.578680  0.443062\n",
              "2         0.121827  0.100478\n",
              "3         0.423858  0.506220\n",
              "4         0.352792  0.416268\n",
              "...            ...       ...\n",
              "20275     0.314721  0.272727\n",
              "20276     0.512690  0.311005\n",
              "20277     0.185279  0.313015\n",
              "20278     0.332487  0.311005\n",
              "20279     0.185279  0.239234\n",
              "\n",
              "[20280 rows x 2 columns]"
            ]
          },
          "metadata": {
            "tags": []
          },
          "execution_count": 58
        }
      ]
    },
    {
      "cell_type": "markdown",
      "metadata": {
        "id": "ixZNOFuyE2qJ"
      },
      "source": [
        "Splitting data into Training and Testing data"
      ]
    },
    {
      "cell_type": "code",
      "metadata": {
        "id": "o8kKvqHpE0aW"
      },
      "source": [
        "from sklearn.model_selection import train_test_split"
      ],
      "execution_count": 59,
      "outputs": []
    },
    {
      "cell_type": "code",
      "metadata": {
        "id": "RFMsZc6KE_hD"
      },
      "source": [
        "data_train,data_test = train_test_split(data_new,test_size=0.1)"
      ],
      "execution_count": 60,
      "outputs": []
    },
    {
      "cell_type": "code",
      "metadata": {
        "colab": {
          "base_uri": "https://localhost:8080/"
        },
        "id": "Km3OcSIdFCOy",
        "outputId": "ccc27f9c-f4ca-4cb4-8b26-6381e336fd40"
      },
      "source": [
        "# INITIALISING BATCH SIZE AND CALCULATING NUMBER OF BATCHES\n",
        "bs = 1000\n",
        "nb = np.ceil(len(data_train)/bs)\n",
        "nb"
      ],
      "execution_count": 61,
      "outputs": [
        {
          "output_type": "execute_result",
          "data": {
            "text/plain": [
              "19.0"
            ]
          },
          "metadata": {
            "tags": []
          },
          "execution_count": 61
        }
      ]
    },
    {
      "cell_type": "markdown",
      "metadata": {
        "id": "SJ-Sez_WFEys"
      },
      "source": [
        "Training the Model"
      ]
    },
    {
      "cell_type": "code",
      "metadata": {
        "id": "xCsYfaFcFHri"
      },
      "source": [
        "# INITIALISING ALL REQUIRED PARAMETERS\n",
        "iter = 1\n",
        "# epochs = 10\n",
        "epochs = 100\n",
        "batch = nb - 1\n",
        "bat = 1\n",
        "alpha = 0.1 # LEARNING RATE\n",
        "m = 1\n",
        "c = -1\n",
        "error = []"
      ],
      "execution_count": 62,
      "outputs": []
    },
    {
      "cell_type": "code",
      "metadata": {
        "colab": {
          "base_uri": "https://localhost:8080/",
          "height": 407
        },
        "id": "fmBTO2dZFQOn",
        "outputId": "8806a5c8-ec56-41df-c733-51594612b095"
      },
      "source": [
        "data_train"
      ],
      "execution_count": 63,
      "outputs": [
        {
          "output_type": "execute_result",
          "data": {
            "text/html": [
              "<div>\n",
              "<style scoped>\n",
              "    .dataframe tbody tr th:only-of-type {\n",
              "        vertical-align: middle;\n",
              "    }\n",
              "\n",
              "    .dataframe tbody tr th {\n",
              "        vertical-align: top;\n",
              "    }\n",
              "\n",
              "    .dataframe thead th {\n",
              "        text-align: right;\n",
              "    }\n",
              "</style>\n",
              "<table border=\"1\" class=\"dataframe\">\n",
              "  <thead>\n",
              "    <tr style=\"text-align: right;\">\n",
              "      <th></th>\n",
              "      <th>sqft_living</th>\n",
              "      <th>price</th>\n",
              "    </tr>\n",
              "  </thead>\n",
              "  <tbody>\n",
              "    <tr>\n",
              "      <th>6728</th>\n",
              "      <td>0.875635</td>\n",
              "      <td>0.382775</td>\n",
              "    </tr>\n",
              "    <tr>\n",
              "      <th>62</th>\n",
              "      <td>0.629442</td>\n",
              "      <td>0.232177</td>\n",
              "    </tr>\n",
              "    <tr>\n",
              "      <th>6177</th>\n",
              "      <td>0.494924</td>\n",
              "      <td>0.440191</td>\n",
              "    </tr>\n",
              "    <tr>\n",
              "      <th>19397</th>\n",
              "      <td>0.743655</td>\n",
              "      <td>0.526316</td>\n",
              "    </tr>\n",
              "    <tr>\n",
              "      <th>13376</th>\n",
              "      <td>0.527919</td>\n",
              "      <td>0.802764</td>\n",
              "    </tr>\n",
              "    <tr>\n",
              "      <th>...</th>\n",
              "      <td>...</td>\n",
              "      <td>...</td>\n",
              "    </tr>\n",
              "    <tr>\n",
              "      <th>15002</th>\n",
              "      <td>0.256345</td>\n",
              "      <td>0.155024</td>\n",
              "    </tr>\n",
              "    <tr>\n",
              "      <th>12373</th>\n",
              "      <td>0.274112</td>\n",
              "      <td>0.137799</td>\n",
              "    </tr>\n",
              "    <tr>\n",
              "      <th>19938</th>\n",
              "      <td>0.510152</td>\n",
              "      <td>0.245933</td>\n",
              "    </tr>\n",
              "    <tr>\n",
              "      <th>19200</th>\n",
              "      <td>0.282995</td>\n",
              "      <td>0.315789</td>\n",
              "    </tr>\n",
              "    <tr>\n",
              "      <th>7909</th>\n",
              "      <td>0.205584</td>\n",
              "      <td>0.144306</td>\n",
              "    </tr>\n",
              "  </tbody>\n",
              "</table>\n",
              "<p>18252 rows × 2 columns</p>\n",
              "</div>"
            ],
            "text/plain": [
              "       sqft_living     price\n",
              "6728      0.875635  0.382775\n",
              "62        0.629442  0.232177\n",
              "6177      0.494924  0.440191\n",
              "19397     0.743655  0.526316\n",
              "13376     0.527919  0.802764\n",
              "...            ...       ...\n",
              "15002     0.256345  0.155024\n",
              "12373     0.274112  0.137799\n",
              "19938     0.510152  0.245933\n",
              "19200     0.282995  0.315789\n",
              "7909      0.205584  0.144306\n",
              "\n",
              "[18252 rows x 2 columns]"
            ]
          },
          "metadata": {
            "tags": []
          },
          "execution_count": 63
        }
      ]
    },
    {
      "cell_type": "code",
      "metadata": {
        "colab": {
          "base_uri": "https://localhost:8080/"
        },
        "id": "TI5KORr4FRQU",
        "outputId": "1d48f593-8afb-467f-8611-bbe011428c4c"
      },
      "source": [
        "data_x = np.array(data_train['sqft_living'])\n",
        "data_y = np.array(data_train['price'])\n",
        "len(data_x)"
      ],
      "execution_count": 64,
      "outputs": [
        {
          "output_type": "execute_result",
          "data": {
            "text/plain": [
              "18252"
            ]
          },
          "metadata": {
            "tags": []
          },
          "execution_count": 64
        }
      ]
    },
    {
      "cell_type": "code",
      "metadata": {
        "colab": {
          "base_uri": "https://localhost:8080/"
        },
        "id": "mUFdElUUFV30",
        "outputId": "455f1ec4-153d-4add-acf9-7c77eae10d21"
      },
      "source": [
        "count = 0\n",
        "while (iter<=epochs):\n",
        "  i = 0\n",
        "  # print(\"iter =\",iter)\n",
        "  bat = 1\n",
        "  # RUNNING ITERATION FOR N-1 BATCHES\n",
        "  while (bat <= batch):\n",
        "    der_m = 0\n",
        "    der_c = 0\n",
        "    err = 0\n",
        "    # print(\"bat = \",bat)\n",
        "    for k in range(0,bs):\n",
        "      der_m = der_m + (data_y[i] - (m*data_x[i])-c)*(data_x[i])\n",
        "      der_c = der_c + (data_y[i] - (m*data_x[i])-c)\n",
        "      i = i+1\n",
        "      \n",
        "    err = der_c**2\n",
        "    err = (1/(2*bs))*err\n",
        "    error.append(err)\n",
        "    \n",
        "    \n",
        "    der_m = (-1/bs)*der_m\n",
        "    der_c = (-1/bs)*der_c\n",
        "    change_m = (-1)*alpha*der_m\n",
        "    change_c = (-1)*alpha*der_c\n",
        "    \n",
        "    m = m + change_m\n",
        "    c = c + change_c\n",
        "    bat = bat + 1\n",
        "    # print(\"new bat = \",bat,\"\\n\")\n",
        "    # EXECUTING FOR LAST BATCH\n",
        "  der_m = 0\n",
        "  der_c = 0\n",
        "  err = 0\n",
        "  count = count + 1\n",
        "  # print(\"end\")\n",
        "  \n",
        "  # FINDING REMAINING NUMBER OF BATCHES\n",
        "  es = len(data_x) - i  \n",
        "  \n",
        "  for k in range(i,len(data_x)):\n",
        "    der_m = der_m + (data_y[i] - (m*data_x[i])-c)*(data_x[i])\n",
        "    der_c = der_c + (data_y[i] - (m*data_x[i])-c)\n",
        "    i = i + 1\n",
        "  \n",
        "  err = der_c**2\n",
        "  err = (1/(2*es))*err\n",
        "  error.append(err)\n",
        "\n",
        "  der_m = (-1/es)*der_m\n",
        "  der_c = (-1/es)*der_c\n",
        "  \n",
        "  change_m = (-1)*alpha*der_m\n",
        "  change_c = (-1)*alpha*der_c\n",
        "  \n",
        "  m = m + change_m\n",
        "  c = c + change_c\n",
        "  \n",
        "  iter = iter + 1\n",
        "  # print(\"new iter\",iter,\"\\n\")\n",
        "\n",
        "print(m,c)\n",
        "print(count)"
      ],
      "execution_count": 67,
      "outputs": [
        {
          "output_type": "stream",
          "text": [
            "0.6443797024661342 0.10795688708471171\n",
            "100\n"
          ],
          "name": "stdout"
        }
      ]
    },
    {
      "cell_type": "markdown",
      "metadata": {
        "id": "CaJTUUjuFqDJ"
      },
      "source": [
        "MSE of training data"
      ]
    },
    {
      "cell_type": "code",
      "metadata": {
        "colab": {
          "base_uri": "https://localhost:8080/"
        },
        "id": "FecC5qivFrGm",
        "outputId": "1c3f53fb-d278-4b9e-8970-f9f5c4f657f2"
      },
      "source": [
        "# MEAN SQUARE ERROR IN EXPONENTIAL FORM\n",
        "# MINIMISED ERROR\n",
        "mse = 0\n",
        "for i in range(0,len(data_train)):\n",
        "    mse += (data_y[i] - (m*data_x[i]) -c)**2\n",
        "mse = (1/len(data_train))*mse\n",
        "mse"
      ],
      "execution_count": 68,
      "outputs": [
        {
          "output_type": "execute_result",
          "data": {
            "text/plain": [
              "0.02419008847285216"
            ]
          },
          "metadata": {
            "tags": []
          },
          "execution_count": 68
        }
      ]
    },
    {
      "cell_type": "code",
      "metadata": {
        "colab": {
          "base_uri": "https://localhost:8080/"
        },
        "id": "6IRQR4rdFywm",
        "outputId": "0e06fce3-fccb-4246-8238-e1046f66a5b0"
      },
      "source": [
        "data_test = np.array(data_test)\n",
        "data_test_x = data_test[:,0]\n",
        "print(data_test_x)\n",
        "data_test_y = data_test[:,1]\n",
        "data_test_y"
      ],
      "execution_count": 69,
      "outputs": [
        {
          "output_type": "stream",
          "text": [
            "[0.90101523 0.39340102 0.24873096 ... 0.37817259 0.28680203 0.18020305]\n"
          ],
          "name": "stdout"
        },
        {
          "output_type": "execute_result",
          "data": {
            "text/plain": [
              "array([0.4784689 , 0.23923445, 0.14449761, ..., 0.5215311 , 0.18181818,\n",
              "       0.22009569])"
            ]
          },
          "metadata": {
            "tags": []
          },
          "execution_count": 69
        }
      ]
    },
    {
      "cell_type": "code",
      "metadata": {
        "colab": {
          "base_uri": "https://localhost:8080/"
        },
        "id": "kYkA3LH2F1pN",
        "outputId": "4d476496-a11b-4bb5-d8d2-a314d3e88acf"
      },
      "source": [
        "len(data_test)"
      ],
      "execution_count": 70,
      "outputs": [
        {
          "output_type": "execute_result",
          "data": {
            "text/plain": [
              "2028"
            ]
          },
          "metadata": {
            "tags": []
          },
          "execution_count": 70
        }
      ]
    },
    {
      "cell_type": "code",
      "metadata": {
        "id": "2C_YT2J5GBvj"
      },
      "source": [
        "# predicting results of test data set\n",
        "pred = []\n",
        "for i in range(len(data_test_x)):\n",
        "  # print((m*data_test_x[i]) +c)\n",
        "  pred.append((m*data_test_x[i]) +c)\n",
        "\n",
        "# pred"
      ],
      "execution_count": 72,
      "outputs": []
    },
    {
      "cell_type": "markdown",
      "metadata": {
        "id": "yK6Ai3KAGE2p"
      },
      "source": [
        "MSE of testing data"
      ]
    },
    {
      "cell_type": "code",
      "metadata": {
        "colab": {
          "base_uri": "https://localhost:8080/"
        },
        "id": "QldfN05WGGGF",
        "outputId": "9bcf2aa0-8006-4be2-959f-161d4cdad008"
      },
      "source": [
        "mse = 0\n",
        "for i in range(0,len(data_test)):\n",
        "  mse += (data_test[i][1] - (m*data_test[i][0]) - c)**2\n",
        "mse = mse/len(data_test)\n",
        "mse"
      ],
      "execution_count": 73,
      "outputs": [
        {
          "output_type": "execute_result",
          "data": {
            "text/plain": [
              "0.02357022670076298"
            ]
          },
          "metadata": {
            "tags": []
          },
          "execution_count": 73
        }
      ]
    },
    {
      "cell_type": "markdown",
      "metadata": {
        "id": "RYSBXgvKGOds"
      },
      "source": [
        "Visualising testing data results"
      ]
    },
    {
      "cell_type": "code",
      "metadata": {
        "colab": {
          "base_uri": "https://localhost:8080/",
          "height": 295
        },
        "id": "PeOn8pqhGKI0",
        "outputId": "0c91a490-c82b-4fc4-aba8-0f9c6c2a2332"
      },
      "source": [
        "plt.scatter(data_test_x,data_test_y,label=\"Original Data points\",color='orange')\n",
        "plt.plot(data_test_x,pred,label=\"predicted regression line\")\n",
        "plt.title(\"House Price Prediction using Mini Batch Gradient Descent\")\n",
        "plt.xlabel(\"Data x\")\n",
        "plt.ylabel(\"Data y\")\n",
        "plt.grid()\n",
        "plt.legend()\n",
        "plt.show()"
      ],
      "execution_count": 74,
      "outputs": [
        {
          "output_type": "display_data",
          "data": {
            "image/png": "[encoded data removed]",
            "text/plain": [
              "<Figure size 432x288 with 1 Axes>"
            ]
          },
          "metadata": {
            "tags": [],
            "needs_background": "light"
          }
        }
      ]
    },
    {
      "cell_type": "code",
      "metadata": {
        "colab": {
          "base_uri": "https://localhost:8080/"
        },
        "id": "8f4spWzOGTje",
        "outputId": "a1b9665b-7cc6-46b9-990f-c66d067d328e"
      },
      "source": [
        "data_train = pd.DataFrame(data_train)\n",
        "\n",
        "data_train_pred = m*data_train['sqft_living'] + c\n",
        "data_train_pred"
      ],
      "execution_count": 75,
      "outputs": [
        {
          "output_type": "execute_result",
          "data": {
            "text/plain": [
              "6728     0.672198\n",
              "62       0.513556\n",
              "6177     0.426876\n",
              "19397    0.587153\n",
              "13376    0.448137\n",
              "           ...   \n",
              "15002    0.273141\n",
              "12373    0.284589\n",
              "19938    0.436689\n",
              "19200    0.290313\n",
              "7909     0.240431\n",
              "Name: sqft_living, Length: 18252, dtype: float64"
            ]
          },
          "metadata": {
            "tags": []
          },
          "execution_count": 75
        }
      ]
    },
    {
      "cell_type": "markdown",
      "metadata": {
        "id": "Qg14rfnBKlZN"
      },
      "source": [
        "Visualising results of Training data"
      ]
    },
    {
      "cell_type": "code",
      "metadata": {
        "colab": {
          "base_uri": "https://localhost:8080/",
          "height": 295
        },
        "id": "bpUSvfBTKkVB",
        "outputId": "f929dbc7-a888-4e27-aaf3-585c4e84c7ec"
      },
      "source": [
        "plt.plot(data_train['sqft_living'],data_train_pred,'red',label=\"Regression Line\")\n",
        "plt.scatter(data_train['sqft_living'],data_train['price'],label=\"original data points\")\n",
        "plt.xlabel(\"square feet of living area\")\n",
        "plt.ylabel(\"price of house\")\n",
        "plt.legend()\n",
        "plt.grid()\n",
        "plt.title(\"Training Results Analysis\")\n",
        "plt.show()\n",
        "%matplotlib inline"
      ],
      "execution_count": 76,
      "outputs": [
        {
          "output_type": "display_data",
          "data": {
            "image/png": "[encoded data removed]",
            "text/plain": [
              "<Figure size 432x288 with 1 Axes>"
            ]
          },
          "metadata": {
            "tags": [],
            "needs_background": "light"
          }
        }
      ]
    },
    {
      "cell_type": "markdown",
      "metadata": {
        "id": "hbMugcOmLLWu"
      },
      "source": [
        "ERROR RATE ANALYSIS"
      ]
    },
    {
      "cell_type": "code",
      "metadata": {
        "colab": {
          "base_uri": "https://localhost:8080/",
          "height": 295
        },
        "id": "kyzUtV8ILG1b",
        "outputId": "646dd841-6d29-43c3-8125-919dd111a80d"
      },
      "source": [
        "iters = np.arange(epochs*nb)\n",
        "plt.plot(iters,error,color='m',label=\"error rate at ith iteration\")\n",
        "plt.legend()\n",
        "plt.xlabel(\"Number of iteration\")\n",
        "plt.ylabel(\"Error Rate at particular Iteration\")\n",
        "plt.title(\"Error Analysis\")\n",
        "plt.grid()\n",
        "plt.show()"
      ],
      "execution_count": 77,
      "outputs": [
        {
          "output_type": "display_data",
          "data": {
            "image/png": "[encoded data removed]",
            "text/plain": [
              "<Figure size 432x288 with 1 Axes>"
            ]
          },
          "metadata": {
            "tags": [],
            "needs_background": "light"
          }
        }
      ]
    },
    {
      "cell_type": "code",
      "metadata": {
        "colab": {
          "base_uri": "https://localhost:8080/"
        },
        "id": "325Nd7ihLQf4",
        "outputId": "571b705c-207b-460b-baae-72b1126ac877"
      },
      "source": [
        "len(error)"
      ],
      "execution_count": 78,
      "outputs": [
        {
          "output_type": "execute_result",
          "data": {
            "text/plain": [
              "1900"
            ]
          },
          "metadata": {
            "tags": []
          },
          "execution_count": 78
        }
      ]
    },
    {
      "cell_type": "code",
      "metadata": {
        "colab": {
          "base_uri": "https://localhost:8080/"
        },
        "id": "6bv1wG8ZLVqq",
        "outputId": "c6760afd-271d-46fe-8654-10acc071e405"
      },
      "source": [
        "mse = 0\n",
        "mse = (data_train['price'] - m*data_train['sqft_living'] - c)**2\n",
        "mse.sum()/len(data_train)"
      ],
      "execution_count": 79,
      "outputs": [
        {
          "output_type": "execute_result",
          "data": {
            "text/plain": [
              "0.024190088472852186"
            ]
          },
          "metadata": {
            "tags": []
          },
          "execution_count": 79
        }
      ]
    },
    {
      "cell_type": "code",
      "metadata": {
        "colab": {
          "base_uri": "https://localhost:8080/"
        },
        "id": "Q_op81c4LgmR",
        "outputId": "e00f44fc-d344-421d-9746-31e470b82039"
      },
      "source": [
        "min_x = data2['sqft_living'].min()\n",
        "max_x = data2['sqft_living'].max()\n",
        "min_y = data2['price'].min()\n",
        "max_y = data2['price'].max()\n",
        "print(min_x,min_y,max_x,max_y)"
      ],
      "execution_count": 80,
      "outputs": [
        {
          "output_type": "stream",
          "text": [
            "290 75000.0 4230 1120000.0\n"
          ],
          "name": "stdout"
        }
      ]
    },
    {
      "cell_type": "markdown",
      "metadata": {
        "id": "fnk-pmROLlok"
      },
      "source": [
        "Deployment of model"
      ]
    },
    {
      "cell_type": "code",
      "metadata": {
        "colab": {
          "base_uri": "https://localhost:8080/"
        },
        "id": "hvsEMqUYLl9t",
        "outputId": "20d16a4d-6f36-4fa0-848b-82044cdc630f"
      },
      "source": [
        "input_x = float(input(\"enter square feet\"))\n",
        "input_x = (input_x - min_x)/(max_x - min_x)\n",
        "output_y = m*input_x + c\n",
        "output_y = (output_y)*(max_y - min_y) + min_y\n",
        "output_y"
      ],
      "execution_count": 81,
      "outputs": [
        {
          "output_type": "stream",
          "text": [
            "enter square feet10000\n"
          ],
          "name": "stdout"
        },
        {
          "output_type": "execute_result",
          "data": {
            "text/plain": [
              "1847329.8256681785"
            ]
          },
          "metadata": {
            "tags": []
          },
          "execution_count": 81
        }
      ]
    }
  ]
}