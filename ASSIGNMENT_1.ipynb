{
  "nbformat": 4,
  "nbformat_minor": 0,
  "metadata": {
    "colab": {
      "name": "ASSIGNMENT-1.ipynb",
      "provenance": [],
      "authorship_tag": "ABX9TyNBs7H0yF57w+JhJOspsYes",
      "include_colab_link": true
    },
    "kernelspec": {
      "name": "python3",
      "display_name": "Python 3"
    }
  },
  "cells": [
    {
      "cell_type": "markdown",
      "metadata": {
        "id": "view-in-github",
        "colab_type": "text"
      },
      "source": [
        "<a href=\"https://colab.research.google.com/github/Manisha1208/NNDL/blob/main/ASSIGNMENT_1.ipynb\" target=\"_parent\"><img src=\"https://colab.research.google.com/assets/colab-badge.svg\" alt=\"Open In Colab\"/></a>"
      ]
    },
    {
      "cell_type": "code",
      "metadata": {
        "id": "YcOX9vEhMpYQ"
      },
      "source": [
        "import random\r\n",
        "x_i = random.random()\r\n",
        "n = 0.1\r\n",
        "eps = 0.0000000000001\r\n",
        "del_x = 1\r\n",
        "epochs = 1000\r\n",
        "iters = 0\r\n",
        "def f(x) :\r\n",
        "    f_x = x*4 +3*x*2 +10\r\n",
        "    return f_x\r\n",
        "def deriv(x) :\r\n",
        "    x_deriv = 4*(x**3)+6*x\r\n",
        "    return x_deriv\r\n",
        "while abs(del_x) > eps and iters < epochs :\r\n",
        "    del_x = -n * deriv(x_i)\r\n",
        "    x_i = x_i + del_x\r\n",
        "    iters = iters + 1\r\n",
        "    print(\"iterations\",iters,\"\\n X value is \",x_i)\r\n",
        "    \r\n",
        "print(\"the  minimum point occurs at \",x_i)\r\n",
        "print(\"the value of f(x)\",f(x_i))"
      ],
      "execution_count": null,
      "outputs": []
    }
  ]
}