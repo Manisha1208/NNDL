{
  "nbformat": 4,
  "nbformat_minor": 0,
  "metadata": {
    "colab": {
      "name": "Assignment_12.ipynb",
      "provenance": [],
      "authorship_tag": "ABX9TyPLYp3Qm/NjFNeDoBqMKQFl",
      "include_colab_link": true
    },
    "kernelspec": {
      "name": "python3",
      "display_name": "Python 3"
    },
    "language_info": {
      "name": "python"
    }
  },
  "cells": [
    {
      "cell_type": "markdown",
      "metadata": {
        "id": "view-in-github",
        "colab_type": "text"
      },
      "source": [
        "<a href=\"https://colab.research.google.com/github/Manisha1208/NNDL/blob/main/Assignment_12.ipynb\" target=\"_parent\"><img src=\"https://colab.research.google.com/assets/colab-badge.svg\" alt=\"Open In Colab\"/></a>"
      ]
    },
    {
      "cell_type": "markdown",
      "metadata": {
        "id": "3889VI-hi3e9"
      },
      "source": [
        "NESTEROV ACCELERATED GRADIENT DESCENT OPTIMISER"
      ]
    },
    {
      "cell_type": "code",
      "metadata": {
        "id": "s_DuHdT5i6Nx"
      },
      "source": [
        "import numpy as np\n",
        "import matplotlib.pyplot as plt\n",
        "import pandas as pd\n",
        "from sklearn.preprocessing import minmax_scale\n",
        "from sklearn.model_selection import train_test_split\n",
        "import seaborn as sns"
      ],
      "execution_count": 47,
      "outputs": []
    },
    {
      "cell_type": "code",
      "metadata": {
        "colab": {
          "base_uri": "https://localhost:8080/",
          "height": 204
        },
        "id": "JtzcPR_rjCGX",
        "outputId": "6e8e7734-47a0-43a4-ae14-1405c3f73642"
      },
      "source": [
        "load_data = pd.read_csv(\"/content/Assignment_12.csv\")\n",
        "load_data.head()"
      ],
      "execution_count": 77,
      "outputs": [
        {
          "output_type": "execute_result",
          "data": {
            "text/html": [
              "<div>\n",
              "<style scoped>\n",
              "    .dataframe tbody tr th:only-of-type {\n",
              "        vertical-align: middle;\n",
              "    }\n",
              "\n",
              "    .dataframe tbody tr th {\n",
              "        vertical-align: top;\n",
              "    }\n",
              "\n",
              "    .dataframe thead th {\n",
              "        text-align: right;\n",
              "    }\n",
              "</style>\n",
              "<table border=\"1\" class=\"dataframe\">\n",
              "  <thead>\n",
              "    <tr style=\"text-align: right;\">\n",
              "      <th></th>\n",
              "      <th>5551.82208</th>\n",
              "    </tr>\n",
              "  </thead>\n",
              "  <tbody>\n",
              "    <tr>\n",
              "      <th>0</th>\n",
              "      <td>4983.17184</td>\n",
              "    </tr>\n",
              "    <tr>\n",
              "      <th>1</th>\n",
              "      <td>4888.39680</td>\n",
              "    </tr>\n",
              "    <tr>\n",
              "      <th>2</th>\n",
              "      <td>5072.95872</td>\n",
              "    </tr>\n",
              "    <tr>\n",
              "      <th>3</th>\n",
              "      <td>5196.25980</td>\n",
              "    </tr>\n",
              "    <tr>\n",
              "      <th>4</th>\n",
              "      <td>5641.29720</td>\n",
              "    </tr>\n",
              "  </tbody>\n",
              "</table>\n",
              "</div>"
            ],
            "text/plain": [
              "   5551.82208\n",
              "0  4983.17184\n",
              "1  4888.39680\n",
              "2  5072.95872\n",
              "3  5196.25980\n",
              "4  5641.29720"
            ]
          },
          "metadata": {
            "tags": []
          },
          "execution_count": 77
        }
      ]
    },
    {
      "cell_type": "code",
      "metadata": {
        "colab": {
          "base_uri": "https://localhost:8080/"
        },
        "id": "Sb7a48LXjhAP",
        "outputId": "2943f603-012c-4746-e7a2-21a98d20b4d8"
      },
      "source": [
        "type(load_data)"
      ],
      "execution_count": 49,
      "outputs": [
        {
          "output_type": "execute_result",
          "data": {
            "text/plain": [
              "pandas.core.frame.DataFrame"
            ]
          },
          "metadata": {
            "tags": []
          },
          "execution_count": 49
        }
      ]
    },
    {
      "cell_type": "code",
      "metadata": {
        "id": "GhiyOv80jmFy"
      },
      "source": [
        "data = load_data.rename(columns={5551.82208:'load'},inplace=False)"
      ],
      "execution_count": 78,
      "outputs": []
    },
    {
      "cell_type": "code",
      "metadata": {
        "colab": {
          "base_uri": "https://localhost:8080/",
          "height": 204
        },
        "id": "uTV38_1hjrjc",
        "outputId": "6aaf73a0-057c-451d-ae26-6cd2e5a63a92"
      },
      "source": [
        "data.head()"
      ],
      "execution_count": 79,
      "outputs": [
        {
          "output_type": "execute_result",
          "data": {
            "text/html": [
              "<div>\n",
              "<style scoped>\n",
              "    .dataframe tbody tr th:only-of-type {\n",
              "        vertical-align: middle;\n",
              "    }\n",
              "\n",
              "    .dataframe tbody tr th {\n",
              "        vertical-align: top;\n",
              "    }\n",
              "\n",
              "    .dataframe thead th {\n",
              "        text-align: right;\n",
              "    }\n",
              "</style>\n",
              "<table border=\"1\" class=\"dataframe\">\n",
              "  <thead>\n",
              "    <tr style=\"text-align: right;\">\n",
              "      <th></th>\n",
              "      <th>5551.82208</th>\n",
              "    </tr>\n",
              "  </thead>\n",
              "  <tbody>\n",
              "    <tr>\n",
              "      <th>0</th>\n",
              "      <td>4983.17184</td>\n",
              "    </tr>\n",
              "    <tr>\n",
              "      <th>1</th>\n",
              "      <td>4888.39680</td>\n",
              "    </tr>\n",
              "    <tr>\n",
              "      <th>2</th>\n",
              "      <td>5072.95872</td>\n",
              "    </tr>\n",
              "    <tr>\n",
              "      <th>3</th>\n",
              "      <td>5196.25980</td>\n",
              "    </tr>\n",
              "    <tr>\n",
              "      <th>4</th>\n",
              "      <td>5641.29720</td>\n",
              "    </tr>\n",
              "  </tbody>\n",
              "</table>\n",
              "</div>"
            ],
            "text/plain": [
              "   5551.82208\n",
              "0  4983.17184\n",
              "1  4888.39680\n",
              "2  5072.95872\n",
              "3  5196.25980\n",
              "4  5641.29720"
            ]
          },
          "metadata": {
            "tags": []
          },
          "execution_count": 79
        }
      ]
    },
    {
      "cell_type": "code",
      "metadata": {
        "colab": {
          "base_uri": "https://localhost:8080/"
        },
        "id": "tJhTzOgAjymu",
        "outputId": "20786d47-d9d4-4b5d-bf42-ce26ea505965"
      },
      "source": [
        "data.shape"
      ],
      "execution_count": 80,
      "outputs": [
        {
          "output_type": "execute_result",
          "data": {
            "text/plain": [
              "(2183, 1)"
            ]
          },
          "metadata": {
            "tags": []
          },
          "execution_count": 80
        }
      ]
    },
    {
      "cell_type": "code",
      "metadata": {
        "colab": {
          "base_uri": "https://localhost:8080/",
          "height": 297
        },
        "id": "lcPB--5xj4E8",
        "outputId": "0b2f1741-4ac2-479d-fd77-9ea7185ed69b"
      },
      "source": [
        "data.describe()"
      ],
      "execution_count": 81,
      "outputs": [
        {
          "output_type": "execute_result",
          "data": {
            "text/html": [
              "<div>\n",
              "<style scoped>\n",
              "    .dataframe tbody tr th:only-of-type {\n",
              "        vertical-align: middle;\n",
              "    }\n",
              "\n",
              "    .dataframe tbody tr th {\n",
              "        vertical-align: top;\n",
              "    }\n",
              "\n",
              "    .dataframe thead th {\n",
              "        text-align: right;\n",
              "    }\n",
              "</style>\n",
              "<table border=\"1\" class=\"dataframe\">\n",
              "  <thead>\n",
              "    <tr style=\"text-align: right;\">\n",
              "      <th></th>\n",
              "      <th>5551.82208</th>\n",
              "    </tr>\n",
              "  </thead>\n",
              "  <tbody>\n",
              "    <tr>\n",
              "      <th>count</th>\n",
              "      <td>2183.000000</td>\n",
              "    </tr>\n",
              "    <tr>\n",
              "      <th>mean</th>\n",
              "      <td>6393.616060</td>\n",
              "    </tr>\n",
              "    <tr>\n",
              "      <th>std</th>\n",
              "      <td>17143.020064</td>\n",
              "    </tr>\n",
              "    <tr>\n",
              "      <th>min</th>\n",
              "      <td>3377.919600</td>\n",
              "    </tr>\n",
              "    <tr>\n",
              "      <th>25%</th>\n",
              "      <td>5257.520640</td>\n",
              "    </tr>\n",
              "    <tr>\n",
              "      <th>50%</th>\n",
              "      <td>5935.910400</td>\n",
              "    </tr>\n",
              "    <tr>\n",
              "      <th>75%</th>\n",
              "      <td>6738.692400</td>\n",
              "    </tr>\n",
              "    <tr>\n",
              "      <th>max</th>\n",
              "      <td>805444.430400</td>\n",
              "    </tr>\n",
              "  </tbody>\n",
              "</table>\n",
              "</div>"
            ],
            "text/plain": [
              "          5551.82208\n",
              "count    2183.000000\n",
              "mean     6393.616060\n",
              "std     17143.020064\n",
              "min      3377.919600\n",
              "25%      5257.520640\n",
              "50%      5935.910400\n",
              "75%      6738.692400\n",
              "max    805444.430400"
            ]
          },
          "metadata": {
            "tags": []
          },
          "execution_count": 81
        }
      ]
    },
    {
      "cell_type": "code",
      "metadata": {
        "colab": {
          "base_uri": "https://localhost:8080/"
        },
        "id": "YWOYmblbkEuu",
        "outputId": "f0d797c7-4b72-40f8-f491-25c32697ae31"
      },
      "source": [
        "data.info()"
      ],
      "execution_count": 82,
      "outputs": [
        {
          "output_type": "stream",
          "text": [
            "<class 'pandas.core.frame.DataFrame'>\n",
            "RangeIndex: 2183 entries, 0 to 2182\n",
            "Data columns (total 1 columns):\n",
            " #   Column      Non-Null Count  Dtype  \n",
            "---  ------      --------------  -----  \n",
            " 0   5551.82208  2183 non-null   float64\n",
            "dtypes: float64(1)\n",
            "memory usage: 17.2 KB\n"
          ],
          "name": "stdout"
        }
      ]
    },
    {
      "cell_type": "code",
      "metadata": {
        "colab": {
          "base_uri": "https://localhost:8080/",
          "height": 80
        },
        "id": "OGAeA_JikHbe",
        "outputId": "29347bf5-4b77-4be3-d705-302176ea7818"
      },
      "source": [
        "data.corr()"
      ],
      "execution_count": 83,
      "outputs": [
        {
          "output_type": "execute_result",
          "data": {
            "text/html": [
              "<div>\n",
              "<style scoped>\n",
              "    .dataframe tbody tr th:only-of-type {\n",
              "        vertical-align: middle;\n",
              "    }\n",
              "\n",
              "    .dataframe tbody tr th {\n",
              "        vertical-align: top;\n",
              "    }\n",
              "\n",
              "    .dataframe thead th {\n",
              "        text-align: right;\n",
              "    }\n",
              "</style>\n",
              "<table border=\"1\" class=\"dataframe\">\n",
              "  <thead>\n",
              "    <tr style=\"text-align: right;\">\n",
              "      <th></th>\n",
              "      <th>5551.82208</th>\n",
              "    </tr>\n",
              "  </thead>\n",
              "  <tbody>\n",
              "    <tr>\n",
              "      <th>5551.82208</th>\n",
              "      <td>1.0</td>\n",
              "    </tr>\n",
              "  </tbody>\n",
              "</table>\n",
              "</div>"
            ],
            "text/plain": [
              "            5551.82208\n",
              "5551.82208         1.0"
            ]
          },
          "metadata": {
            "tags": []
          },
          "execution_count": 83
        }
      ]
    },
    {
      "cell_type": "markdown",
      "metadata": {
        "id": "wUN926hQkPTM"
      },
      "source": [
        "VALIDATING NULL VALUE"
      ]
    },
    {
      "cell_type": "code",
      "metadata": {
        "colab": {
          "base_uri": "https://localhost:8080/"
        },
        "id": "wrsJ9YNtkQ1n",
        "outputId": "16936d0f-ed64-46cb-9780-afa6ba05f8fb"
      },
      "source": [
        "data.isnull().sum()"
      ],
      "execution_count": 84,
      "outputs": [
        {
          "output_type": "execute_result",
          "data": {
            "text/plain": [
              "5551.82208    0\n",
              "dtype: int64"
            ]
          },
          "metadata": {
            "tags": []
          },
          "execution_count": 84
        }
      ]
    },
    {
      "cell_type": "markdown",
      "metadata": {
        "id": "Z3wBwWr3k-0w"
      },
      "source": [
        "VISUALISING OUTLINERS OF DATA"
      ]
    },
    {
      "cell_type": "code",
      "metadata": {
        "colab": {
          "base_uri": "https://localhost:8080/",
          "height": 296
        },
        "id": "G8ld5hsSk0GX",
        "outputId": "d2d7df59-b5e8-418c-b14d-4ef8560d9b3f"
      },
      "source": [
        "sns.boxplot(x=data['5551.82208'])"
      ],
      "execution_count": 85,
      "outputs": [
        {
          "output_type": "execute_result",
          "data": {
            "text/plain": [
              "<matplotlib.axes._subplots.AxesSubplot at 0x7f1c4add7dd0>"
            ]
          },
          "metadata": {
            "tags": []
          },
          "execution_count": 85
        },
        {
          "output_type": "display_data",
          "data": {
            "image/png": "[encoded data removed]",
            "text/plain": [
              "<Figure size 432x288 with 1 Axes>"
            ]
          },
          "metadata": {
            "tags": [],
            "needs_background": "light"
          }
        }
      ]
    },
    {
      "cell_type": "code",
      "metadata": {
        "colab": {
          "base_uri": "https://localhost:8080/"
        },
        "id": "zNIJmGo0lhwN",
        "outputId": "e77023c7-0fbe-4a01-dc34-b05b6bb2a763"
      },
      "source": [
        "from scipy import stats\n",
        "\n",
        "z = np.abs(stats.zscore(load_data.iloc[:,0]))\n",
        "\n",
        "threshold = 3\n",
        "print(np.where(z > 3))"
      ],
      "execution_count": 86,
      "outputs": [
        {
          "output_type": "stream",
          "text": [
            "(array([928]),)\n"
          ],
          "name": "stdout"
        }
      ]
    },
    {
      "cell_type": "markdown",
      "metadata": {
        "id": "K2Sm-FRWlrKo"
      },
      "source": [
        "From boxplot and from above zscore calculation, we can conclude that there is one outliner. lets replace it."
      ]
    },
    {
      "cell_type": "code",
      "metadata": {
        "id": "8aN-D6uPllrT"
      },
      "source": [
        "data.iloc[928,0] = data.iloc[927,0]"
      ],
      "execution_count": 87,
      "outputs": []
    },
    {
      "cell_type": "markdown",
      "metadata": {
        "id": "1iO72bS3lzJ3"
      },
      "source": [
        "AFTER REPLACING THE OUTLINER"
      ]
    },
    {
      "cell_type": "code",
      "metadata": {
        "colab": {
          "base_uri": "https://localhost:8080/",
          "height": 296
        },
        "id": "KCCAKm33l0K2",
        "outputId": "48139327-d85c-43cd-914d-d00d1d8a99aa"
      },
      "source": [
        "sns.boxplot(x=data['5551.82208'])"
      ],
      "execution_count": 88,
      "outputs": [
        {
          "output_type": "execute_result",
          "data": {
            "text/plain": [
              "<matplotlib.axes._subplots.AxesSubplot at 0x7f1c4ad3e390>"
            ]
          },
          "metadata": {
            "tags": []
          },
          "execution_count": 88
        },
        {
          "output_type": "display_data",
          "data": {
            "image/png": "[encoded data removed]",
            "text/plain": [
              "<Figure size 432x288 with 1 Axes>"
            ]
          },
          "metadata": {
            "tags": [],
            "needs_background": "light"
          }
        }
      ]
    },
    {
      "cell_type": "markdown",
      "metadata": {
        "id": "5_b7mkv7mEeY"
      },
      "source": [
        "now all outliners are removed and now we are good to train the model"
      ]
    },
    {
      "cell_type": "code",
      "metadata": {
        "id": "srf3EiM5mRFu"
      },
      "source": [
        "data_x = []\n",
        "data_y = []\n",
        "for i in range(0,len(data)-1):\n",
        "  data_x.append(data.iloc[i,0])\n",
        "  data_y.append(data.iloc[i+1,0])\n"
      ],
      "execution_count": 89,
      "outputs": []
    },
    {
      "cell_type": "code",
      "metadata": {
        "colab": {
          "base_uri": "https://localhost:8080/",
          "height": 295
        },
        "id": "w-HC9Ke_mX_E",
        "outputId": "028f2f33-74ad-45eb-9eea-c4f4342c4f39"
      },
      "source": [
        "plt.scatter(data_x,data_y)\n",
        "plt.title(\"load data visualisation\")\n",
        "plt.xlabel(\"previous hours load\")\n",
        "plt.ylabel(\"present hours load\")\n",
        "plt.grid()"
      ],
      "execution_count": 90,
      "outputs": [
        {
          "output_type": "display_data",
          "data": {
            "image/png": "[encoded data removed]",
            "text/plain": [
              "<Figure size 432x288 with 1 Axes>"
            ]
          },
          "metadata": {
            "tags": [],
            "needs_background": "light"
          }
        }
      ]
    },
    {
      "cell_type": "code",
      "metadata": {
        "colab": {
          "base_uri": "https://localhost:8080/"
        },
        "id": "GmRx3OW7mg3B",
        "outputId": "ce8c4a18-03bc-447b-efbc-f99d0bcf12cc"
      },
      "source": [
        "data_xx = pd.DataFrame(data_x)\n",
        "min_x = float(data_xx.min())\n",
        "max_x = float(data_xx.max())\n",
        "data_yy = pd.DataFrame(data_y)\n",
        "min_y = float(data_yy.min())\n",
        "max_y = float(data_yy.max())\n",
        "print(min_x)\n",
        "print(min_y)\n",
        "print(max_x)\n",
        "print(max_y)"
      ],
      "execution_count": 91,
      "outputs": [
        {
          "output_type": "stream",
          "text": [
            "3377.9196\n",
            "3377.9196\n",
            "8841.66948\n",
            "8841.66948\n"
          ],
          "name": "stdout"
        }
      ]
    },
    {
      "cell_type": "markdown",
      "metadata": {
        "id": "yLux4jKFmmtG"
      },
      "source": [
        "DATA NORMALISATION"
      ]
    },
    {
      "cell_type": "code",
      "metadata": {
        "id": "_kBIHp7PmnlG"
      },
      "source": [
        "\n",
        "x = minmax_scale(data_x)\n",
        "y = minmax_scale(data_y)"
      ],
      "execution_count": 92,
      "outputs": []
    },
    {
      "cell_type": "code",
      "metadata": {
        "colab": {
          "base_uri": "https://localhost:8080/",
          "height": 419
        },
        "id": "Wfsf6j8Ymqif",
        "outputId": "002e2c21-ae86-4d8a-ffa8-686df198e41e"
      },
      "source": [
        "data_norm = []\n",
        "for i in range(len(data)-24):\n",
        "  data_norm.append([x[i],y[i]])\n",
        "\n",
        "data_norm = pd.DataFrame(data_norm)\n",
        "data_norm"
      ],
      "execution_count": 93,
      "outputs": [
        {
          "output_type": "execute_result",
          "data": {
            "text/html": [
              "<div>\n",
              "<style scoped>\n",
              "    .dataframe tbody tr th:only-of-type {\n",
              "        vertical-align: middle;\n",
              "    }\n",
              "\n",
              "    .dataframe tbody tr th {\n",
              "        vertical-align: top;\n",
              "    }\n",
              "\n",
              "    .dataframe thead th {\n",
              "        text-align: right;\n",
              "    }\n",
              "</style>\n",
              "<table border=\"1\" class=\"dataframe\">\n",
              "  <thead>\n",
              "    <tr style=\"text-align: right;\">\n",
              "      <th></th>\n",
              "      <th>0</th>\n",
              "      <th>1</th>\n",
              "    </tr>\n",
              "  </thead>\n",
              "  <tbody>\n",
              "    <tr>\n",
              "      <th>0</th>\n",
              "      <td>0.293800</td>\n",
              "      <td>0.276454</td>\n",
              "    </tr>\n",
              "    <tr>\n",
              "      <th>1</th>\n",
              "      <td>0.276454</td>\n",
              "      <td>0.310234</td>\n",
              "    </tr>\n",
              "    <tr>\n",
              "      <th>2</th>\n",
              "      <td>0.310234</td>\n",
              "      <td>0.332801</td>\n",
              "    </tr>\n",
              "    <tr>\n",
              "      <th>3</th>\n",
              "      <td>0.332801</td>\n",
              "      <td>0.414254</td>\n",
              "    </tr>\n",
              "    <tr>\n",
              "      <th>4</th>\n",
              "      <td>0.414254</td>\n",
              "      <td>0.690965</td>\n",
              "    </tr>\n",
              "    <tr>\n",
              "      <th>...</th>\n",
              "      <td>...</td>\n",
              "      <td>...</td>\n",
              "    </tr>\n",
              "    <tr>\n",
              "      <th>2154</th>\n",
              "      <td>0.231719</td>\n",
              "      <td>0.445808</td>\n",
              "    </tr>\n",
              "    <tr>\n",
              "      <th>2155</th>\n",
              "      <td>0.445808</td>\n",
              "      <td>0.684146</td>\n",
              "    </tr>\n",
              "    <tr>\n",
              "      <th>2156</th>\n",
              "      <td>0.684146</td>\n",
              "      <td>0.514679</td>\n",
              "    </tr>\n",
              "    <tr>\n",
              "      <th>2157</th>\n",
              "      <td>0.514679</td>\n",
              "      <td>0.417306</td>\n",
              "    </tr>\n",
              "    <tr>\n",
              "      <th>2158</th>\n",
              "      <td>0.417306</td>\n",
              "      <td>0.322302</td>\n",
              "    </tr>\n",
              "  </tbody>\n",
              "</table>\n",
              "<p>2159 rows × 2 columns</p>\n",
              "</div>"
            ],
            "text/plain": [
              "             0         1\n",
              "0     0.293800  0.276454\n",
              "1     0.276454  0.310234\n",
              "2     0.310234  0.332801\n",
              "3     0.332801  0.414254\n",
              "4     0.414254  0.690965\n",
              "...        ...       ...\n",
              "2154  0.231719  0.445808\n",
              "2155  0.445808  0.684146\n",
              "2156  0.684146  0.514679\n",
              "2157  0.514679  0.417306\n",
              "2158  0.417306  0.322302\n",
              "\n",
              "[2159 rows x 2 columns]"
            ]
          },
          "metadata": {
            "tags": []
          },
          "execution_count": 93
        }
      ]
    },
    {
      "cell_type": "markdown",
      "metadata": {
        "id": "9RA18ylLmwRC"
      },
      "source": [
        "SPLITTING DATA SET"
      ]
    },
    {
      "cell_type": "code",
      "metadata": {
        "id": "iGi7-EsumxGZ"
      },
      "source": [
        "from sklearn.model_selection import train_test_split\n",
        "data_train,data_test = train_test_split(data_norm,test_size=0.1)"
      ],
      "execution_count": 94,
      "outputs": []
    },
    {
      "cell_type": "code",
      "metadata": {
        "colab": {
          "base_uri": "https://localhost:8080/",
          "height": 204
        },
        "id": "XHZdGU60m4Yi",
        "outputId": "551c21a6-d26a-4d06-e359-76639ec00379"
      },
      "source": [
        "data_norm.head()"
      ],
      "execution_count": 95,
      "outputs": [
        {
          "output_type": "execute_result",
          "data": {
            "text/html": [
              "<div>\n",
              "<style scoped>\n",
              "    .dataframe tbody tr th:only-of-type {\n",
              "        vertical-align: middle;\n",
              "    }\n",
              "\n",
              "    .dataframe tbody tr th {\n",
              "        vertical-align: top;\n",
              "    }\n",
              "\n",
              "    .dataframe thead th {\n",
              "        text-align: right;\n",
              "    }\n",
              "</style>\n",
              "<table border=\"1\" class=\"dataframe\">\n",
              "  <thead>\n",
              "    <tr style=\"text-align: right;\">\n",
              "      <th></th>\n",
              "      <th>0</th>\n",
              "      <th>1</th>\n",
              "    </tr>\n",
              "  </thead>\n",
              "  <tbody>\n",
              "    <tr>\n",
              "      <th>0</th>\n",
              "      <td>0.293800</td>\n",
              "      <td>0.276454</td>\n",
              "    </tr>\n",
              "    <tr>\n",
              "      <th>1</th>\n",
              "      <td>0.276454</td>\n",
              "      <td>0.310234</td>\n",
              "    </tr>\n",
              "    <tr>\n",
              "      <th>2</th>\n",
              "      <td>0.310234</td>\n",
              "      <td>0.332801</td>\n",
              "    </tr>\n",
              "    <tr>\n",
              "      <th>3</th>\n",
              "      <td>0.332801</td>\n",
              "      <td>0.414254</td>\n",
              "    </tr>\n",
              "    <tr>\n",
              "      <th>4</th>\n",
              "      <td>0.414254</td>\n",
              "      <td>0.690965</td>\n",
              "    </tr>\n",
              "  </tbody>\n",
              "</table>\n",
              "</div>"
            ],
            "text/plain": [
              "          0         1\n",
              "0  0.293800  0.276454\n",
              "1  0.276454  0.310234\n",
              "2  0.310234  0.332801\n",
              "3  0.332801  0.414254\n",
              "4  0.414254  0.690965"
            ]
          },
          "metadata": {
            "tags": []
          },
          "execution_count": 95
        }
      ]
    },
    {
      "cell_type": "code",
      "metadata": {
        "id": "yFr5W0VVm8EY"
      },
      "source": [
        "data_x = np.array(data_train[0])"
      ],
      "execution_count": 96,
      "outputs": []
    },
    {
      "cell_type": "code",
      "metadata": {
        "id": "Utw9thyIm_SS"
      },
      "source": [
        "data_y = np.array(data_train[1])"
      ],
      "execution_count": 97,
      "outputs": []
    },
    {
      "cell_type": "code",
      "metadata": {
        "colab": {
          "base_uri": "https://localhost:8080/"
        },
        "id": "PQ65HItcnFDA",
        "outputId": "efae9d18-4093-4228-ff70-fc98da4d2e18"
      },
      "source": [
        "\n",
        "len(data_x)"
      ],
      "execution_count": 98,
      "outputs": [
        {
          "output_type": "execute_result",
          "data": {
            "text/plain": [
              "1943"
            ]
          },
          "metadata": {
            "tags": []
          },
          "execution_count": 98
        }
      ]
    },
    {
      "cell_type": "code",
      "metadata": {
        "colab": {
          "base_uri": "https://localhost:8080/"
        },
        "id": "Zf30zoednH9i",
        "outputId": "9f611def-6054-4fea-cb0f-659396d1cb0c"
      },
      "source": [
        "len(data_test)"
      ],
      "execution_count": 99,
      "outputs": [
        {
          "output_type": "execute_result",
          "data": {
            "text/plain": [
              "216"
            ]
          },
          "metadata": {
            "tags": []
          },
          "execution_count": 99
        }
      ]
    },
    {
      "cell_type": "markdown",
      "metadata": {
        "id": "cbuh-LBwnLlq"
      },
      "source": [
        "TRAINING THE MODEL"
      ]
    },
    {
      "cell_type": "code",
      "metadata": {
        "id": "lgHgexN6nONN"
      },
      "source": [
        "#STEP 2: initialising required parameters\n",
        "m = 1\n",
        "c = -1\n",
        "iter = 1\n",
        "epochs = 2000\n",
        "alpha = 0.1\n",
        "ns = len(data_train)\n",
        "error = []\n",
        "vm = 0\n",
        "vc = 0\n",
        "moment = 0.9"
      ],
      "execution_count": 100,
      "outputs": []
    },
    {
      "cell_type": "code",
      "metadata": {
        "colab": {
          "base_uri": "https://localhost:8080/"
        },
        "id": "AcoCRcGrnXZE",
        "outputId": "4d436d2a-a020-4a0d-d809-f1b2c955c841"
      },
      "source": [
        "# while loop is runned until iter reaches epochs\n",
        "while (iter<=epochs):\n",
        "  # running for loop to calculate and update model parameters for each sample\n",
        "  for i in range(0,len(data_train)):\n",
        "    # calculating derivatives of m and c\n",
        "    der_m = (-1) * (data_y[i] - ((m+(moment*vm))*data_x[i]) - (c+(moment*vc)))*(data_x[i])\n",
        "    der_c = (-1) * (data_y[i] - ((m+(moment*vm))*data_x[i]) - (c+(moment*vc)))\n",
        "    # print(\"derivatives at \",i,\"   \",der_m,der_c)\n",
        "\n",
        "    # calculating change in m and c\n",
        "    vm = (moment * vm) - (alpha * der_m)\n",
        "    vc = (moment * vc) - (alpha * der_c)\n",
        "    # print(\"changes at \",i,vm,vc)\n",
        "\n",
        "    #updating m and c\n",
        "    m = m + vm\n",
        "    c = c + vc\n",
        "    # print(\"values at\",i,m,c)\n",
        "\n",
        "  err=0\n",
        "  for i in range(0,len(data_train)):\n",
        "    err+=((data_y[i] - (m * data_x[i]) - c))**2\n",
        "  err = (1/(2*len(data_train))) * err\n",
        "  error.append(err)\n",
        "    #incrementing no of iterations\n",
        "  iter = iter + 1\n",
        " \n",
        "\n",
        "  \n",
        "print(m,c)"
      ],
      "execution_count": 33,
      "outputs": [
        {
          "output_type": "stream",
          "text": [
            "0.9470970283768984 -0.052167612026228896\n"
          ],
          "name": "stdout"
        }
      ]
    },
    {
      "cell_type": "code",
      "metadata": {
        "colab": {
          "base_uri": "https://localhost:8080/"
        },
        "id": "RcuSsRwenrJj",
        "outputId": "52463cfe-57ef-4aea-8182-228ef6d43e4b"
      },
      "source": [
        "len(error)"
      ],
      "execution_count": 101,
      "outputs": [
        {
          "output_type": "execute_result",
          "data": {
            "text/plain": [
              "0"
            ]
          },
          "metadata": {
            "tags": []
          },
          "execution_count": 101
        }
      ]
    },
    {
      "cell_type": "code",
      "metadata": {
        "id": "5b7yjcfXnuh6"
      },
      "source": [
        "iters = np.arange(epochs)"
      ],
      "execution_count": 35,
      "outputs": []
    },
    {
      "cell_type": "code",
      "metadata": {
        "id": "66v346G9n0HY"
      },
      "source": [
        "from sklearn.metrics import mean_squared_error"
      ],
      "execution_count": 36,
      "outputs": []
    },
    {
      "cell_type": "code",
      "metadata": {
        "id": "ZTlscrpxn3ep"
      },
      "source": [
        "pred = []\n",
        "for i in range(len(data_train)):\n",
        "  pred.append(m*data_x[i] + c)"
      ],
      "execution_count": 37,
      "outputs": []
    },
    {
      "cell_type": "code",
      "metadata": {
        "id": "Px_CVvdcn6vT"
      },
      "source": [
        "mse_train = mean_squared_error(data_y,pred)"
      ],
      "execution_count": 39,
      "outputs": []
    },
    {
      "cell_type": "code",
      "metadata": {
        "colab": {
          "base_uri": "https://localhost:8080/",
          "height": 419
        },
        "id": "p5zi3jTZoGHX",
        "outputId": "2adaae68-dedc-47ab-fea8-86132959b9d2"
      },
      "source": [
        "data_test"
      ],
      "execution_count": 40,
      "outputs": [
        {
          "output_type": "execute_result",
          "data": {
            "text/html": [
              "<div>\n",
              "<style scoped>\n",
              "    .dataframe tbody tr th:only-of-type {\n",
              "        vertical-align: middle;\n",
              "    }\n",
              "\n",
              "    .dataframe tbody tr th {\n",
              "        vertical-align: top;\n",
              "    }\n",
              "\n",
              "    .dataframe thead th {\n",
              "        text-align: right;\n",
              "    }\n",
              "</style>\n",
              "<table border=\"1\" class=\"dataframe\">\n",
              "  <thead>\n",
              "    <tr style=\"text-align: right;\">\n",
              "      <th></th>\n",
              "      <th>0</th>\n",
              "      <th>1</th>\n",
              "    </tr>\n",
              "  </thead>\n",
              "  <tbody>\n",
              "    <tr>\n",
              "      <th>1753</th>\n",
              "      <td>0.311603</td>\n",
              "      <td>0.231719</td>\n",
              "    </tr>\n",
              "    <tr>\n",
              "      <th>737</th>\n",
              "      <td>0.771733</td>\n",
              "      <td>0.781319</td>\n",
              "    </tr>\n",
              "    <tr>\n",
              "      <th>1760</th>\n",
              "      <td>0.580583</td>\n",
              "      <td>0.530370</td>\n",
              "    </tr>\n",
              "    <tr>\n",
              "      <th>437</th>\n",
              "      <td>0.618242</td>\n",
              "      <td>0.552338</td>\n",
              "    </tr>\n",
              "    <tr>\n",
              "      <th>585</th>\n",
              "      <td>0.577444</td>\n",
              "      <td>0.596274</td>\n",
              "    </tr>\n",
              "    <tr>\n",
              "      <th>...</th>\n",
              "      <td>...</td>\n",
              "      <td>...</td>\n",
              "    </tr>\n",
              "    <tr>\n",
              "      <th>2069</th>\n",
              "      <td>0.271633</td>\n",
              "      <td>0.638983</td>\n",
              "    </tr>\n",
              "    <tr>\n",
              "      <th>1184</th>\n",
              "      <td>0.357764</td>\n",
              "      <td>0.539785</td>\n",
              "    </tr>\n",
              "    <tr>\n",
              "      <th>767</th>\n",
              "      <td>0.397278</td>\n",
              "      <td>0.442412</td>\n",
              "    </tr>\n",
              "    <tr>\n",
              "      <th>1670</th>\n",
              "      <td>0.493738</td>\n",
              "      <td>0.394682</td>\n",
              "    </tr>\n",
              "    <tr>\n",
              "      <th>1112</th>\n",
              "      <td>0.391487</td>\n",
              "      <td>0.480956</td>\n",
              "    </tr>\n",
              "  </tbody>\n",
              "</table>\n",
              "<p>216 rows × 2 columns</p>\n",
              "</div>"
            ],
            "text/plain": [
              "             0         1\n",
              "1753  0.311603  0.231719\n",
              "737   0.771733  0.781319\n",
              "1760  0.580583  0.530370\n",
              "437   0.618242  0.552338\n",
              "585   0.577444  0.596274\n",
              "...        ...       ...\n",
              "2069  0.271633  0.638983\n",
              "1184  0.357764  0.539785\n",
              "767   0.397278  0.442412\n",
              "1670  0.493738  0.394682\n",
              "1112  0.391487  0.480956\n",
              "\n",
              "[216 rows x 2 columns]"
            ]
          },
          "metadata": {
            "tags": []
          },
          "execution_count": 40
        }
      ]
    },
    {
      "cell_type": "code",
      "metadata": {
        "id": "sZWqf7eNoTAg"
      },
      "source": [
        "pred_test = m*data_test[0] + c\n",
        "mse_test = mean_squared_error(data_test[1],pred_test)\n"
      ],
      "execution_count": 41,
      "outputs": []
    },
    {
      "cell_type": "code",
      "metadata": {
        "colab": {
          "base_uri": "https://localhost:8080/"
        },
        "id": "vsLjn-UAoW9a",
        "outputId": "b3a76b32-f406-43d8-d626-eadd20b568a9"
      },
      "source": [
        "print(\"training data mean squared error:\",mse_train)\n",
        "print(\"Testing data mean squared error:\",mse_test)"
      ],
      "execution_count": 42,
      "outputs": [
        {
          "output_type": "stream",
          "text": [
            "training data mean squared error: 0.02241365932161925\n",
            "Testing data mean squared error: 0.01669969475149394\n"
          ],
          "name": "stdout"
        }
      ]
    },
    {
      "cell_type": "code",
      "metadata": {
        "colab": {
          "base_uri": "https://localhost:8080/"
        },
        "id": "_I13XljWojsc",
        "outputId": "a72b058d-2a0e-49b6-87a4-352b72a8e26c"
      },
      "source": [
        "print(\"model parameter:\",m,c)"
      ],
      "execution_count": 43,
      "outputs": [
        {
          "output_type": "stream",
          "text": [
            "model parameter: 0.9470970283768984 -0.052167612026228896\n"
          ],
          "name": "stdout"
        }
      ]
    },
    {
      "cell_type": "markdown",
      "metadata": {
        "id": "edWe5Daaopds"
      },
      "source": [
        "VISUALISING TRAINING DATA"
      ]
    },
    {
      "cell_type": "code",
      "metadata": {
        "colab": {
          "base_uri": "https://localhost:8080/",
          "height": 312
        },
        "id": "XJ78sMSfoqbF",
        "outputId": "42727b16-1560-4f5c-dbb8-9f4016ee7e8b"
      },
      "source": [
        "plt.scatter(data_train[0],data_train[1],label=\"original data points\")\n",
        "plt.plot(data_train[0],pred,color='red',label=\"predicted line\")\n",
        "plt.title(\"visualing regression line of training data\")\n",
        "plt.xlabel(\"previous hours load\")\n",
        "plt.ylabel(\"present hours load\")\n",
        "plt.grid()\n",
        "plt.legend()"
      ],
      "execution_count": 44,
      "outputs": [
        {
          "output_type": "execute_result",
          "data": {
            "text/plain": [
              "<matplotlib.legend.Legend at 0x7f1c4ba98ad0>"
            ]
          },
          "metadata": {
            "tags": []
          },
          "execution_count": 44
        },
        {
          "output_type": "display_data",
          "data": {
            "image/png": "[encoded data removed]",
            "text/plain": [
              "<Figure size 432x288 with 1 Axes>"
            ]
          },
          "metadata": {
            "tags": [],
            "needs_background": "light"
          }
        }
      ]
    },
    {
      "cell_type": "code",
      "metadata": {
        "colab": {
          "base_uri": "https://localhost:8080/",
          "height": 312
        },
        "id": "RrCYwKWfox0b",
        "outputId": "90a106c0-8d81-4037-a9f8-d146d548ed9d"
      },
      "source": [
        "plt.scatter(data_test[0],data_test[1],label=\"original data points\")\n",
        "plt.plot(data_test[0],pred_test,color='red',label=\"predicted line\")\n",
        "plt.title(\"visualing regression line of testing data\")\n",
        "plt.xlabel(\"previous hours load\")\n",
        "plt.ylabel(\"present hours load\")\n",
        "plt.grid()\n",
        "plt.legend()"
      ],
      "execution_count": 45,
      "outputs": [
        {
          "output_type": "execute_result",
          "data": {
            "text/plain": [
              "<matplotlib.legend.Legend at 0x7f1c4af4df10>"
            ]
          },
          "metadata": {
            "tags": []
          },
          "execution_count": 45
        },
        {
          "output_type": "display_data",
          "data": {
            "image/png": "[encoded data removed]",
            "text/plain": [
              "<Figure size 432x288 with 1 Axes>"
            ]
          },
          "metadata": {
            "tags": [],
            "needs_background": "light"
          }
        }
      ]
    },
    {
      "cell_type": "code",
      "metadata": {
        "colab": {
          "base_uri": "https://localhost:8080/"
        },
        "id": "Lys6mZdvo1xa",
        "outputId": "406dd72c-c423-4220-9f29-797d327d2db9"
      },
      "source": [
        "\n",
        "input_load = float(input(\"enter yesterday load at this time : \"))\n",
        "input_load = (input_load - min_x)/(max_x-min_x)\n",
        "output_load = input_load*m+c\n",
        "\n",
        "output_load = output_load*(max_y-min_y)+min_y\n",
        "\n",
        "print(\"predicted load for this hour is : \",output_load)"
      ],
      "execution_count": 46,
      "outputs": [
        {
          "output_type": "stream",
          "text": [
            "enter yesterday load at this time : 4444\n",
            "predicted load for this hour is :  4102.57039490266\n"
          ],
          "name": "stdout"
        }
      ]
    }
  ]
}