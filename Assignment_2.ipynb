{
  "nbformat": 4,
  "nbformat_minor": 0,
  "metadata": {
    "colab": {
      "name": "Assignment_2.ipynb",
      "provenance": [],
      "authorship_tag": "ABX9TyM3r6+NWP2GNhcFh31e73Hn",
      "include_colab_link": true
    },
    "kernelspec": {
      "name": "python3",
      "display_name": "Python 3"
    },
    "language_info": {
      "name": "python"
    }
  },
  "cells": [
    {
      "cell_type": "markdown",
      "metadata": {
        "id": "view-in-github",
        "colab_type": "text"
      },
      "source": [
        "<a href=\"https://colab.research.google.com/github/Manisha1208/NNDL/blob/main/Assignment_2.ipynb\" target=\"_parent\"><img src=\"https://colab.research.google.com/assets/colab-badge.svg\" alt=\"Open In Colab\"/></a>"
      ]
    },
    {
      "cell_type": "code",
      "metadata": {
        "colab": {
          "base_uri": "https://localhost:8080/"
        },
        "id": "2GlP_qAIEuJs",
        "outputId": "4791c919-0f27-4840-9ddc-5234929d7e86"
      },
      "source": [
        "# STEP 1: initialising varibles\n",
        "x = -1\n",
        "y = 1\n",
        "epochs = 100\n",
        "alpha = 0.1\n",
        "# function to calculate derivation of x\n",
        "def der_x(x):\n",
        "  val = 2*x\n",
        "  return val\n",
        "# function to calculate derivation of y\n",
        "def der_y(y):\n",
        "  val = 2*y\n",
        "  return val\n",
        "# STEP 2:initialising number of current iteration to 1\n",
        "iter = 1\n",
        "# STEP 3: implementing Descent code\n",
        "while (iter<=epochs):\n",
        "  df_dx = der_x(x)\n",
        "  df_dy = der_y(y)\n",
        "\n",
        "  # STEP 4: calculating change in x and y\n",
        "  change_x = (-1)*alpha*df_dx\n",
        "  change_y = (-1)*alpha*df_dy\n",
        "\n",
        "  # STEP 5: updating model parameters x and y\n",
        "  x = x + change_x\n",
        "  y = y + change_y\n",
        "\n",
        "  # STEP 6: incrementing no of iterations\n",
        "  iter = iter + 1\n",
        "  # STEP 7: printing m and c (GLOBAL MIN POINT)\n",
        "print(x,y)\n",
        "# function to predict f(x)\n",
        "def f(x,y):\n",
        "  val = (x**2)+(y**2)+10\n",
        "  return val\n",
        "# printing global minimum value for given f(X,y) function or curve\n",
        "print(f(x,y))\n"
      ],
      "execution_count": null,
      "outputs": [
        {
          "output_type": "stream",
          "text": [
            "-2.0370359763344877e-10 2.0370359763344877e-10\n",
            "10.0\n"
          ],
          "name": "stdout"
        }
      ]
    }
  ]
}