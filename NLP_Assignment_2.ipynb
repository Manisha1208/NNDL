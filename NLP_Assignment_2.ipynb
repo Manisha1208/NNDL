{
  "nbformat": 4,
  "nbformat_minor": 0,
  "metadata": {
    "colab": {
      "name": "NLP/Assignment 2.ipynb",
      "provenance": [],
      "authorship_tag": "ABX9TyMhPak04hFUe7OoraosRbyq",
      "include_colab_link": true
    },
    "kernelspec": {
      "name": "python3",
      "display_name": "Python 3"
    },
    "language_info": {
      "name": "python"
    }
  },
  "cells": [
    {
      "cell_type": "markdown",
      "metadata": {
        "id": "view-in-github",
        "colab_type": "text"
      },
      "source": [
        "<a href=\"https://colab.research.google.com/github/Manisha1208/NNDL/blob/main/NLP_Assignment_2.ipynb\" target=\"_parent\"><img src=\"https://colab.research.google.com/assets/colab-badge.svg\" alt=\"Open In Colab\"/></a>"
      ]
    },
    {
      "cell_type": "code",
      "source": [
        "#1. Split the above paragraph into sentences\n",
        "from nltk.tokenize import sent_tokenize\n",
        "text = '''Are  you  fascinated  by  the  amount  of  text  data  available  on  the  internet?  Are  you \n",
        "looking  for  ways  to  work  with  this  text  data  but  aren’t  sure  where  to  begin? \n",
        "Machines, after all, recognize numbers, not the letters of our language. And that can \n",
        "be a tricky landscape to navigate in machine learning.'''\n",
        "print(sent_tokenize(text))"
      ],
      "metadata": {
        "id": "awvYbDFAoeiE"
      },
      "execution_count": null,
      "outputs": []
    },
    {
      "cell_type": "code",
      "source": [
        "import nltk.data\n",
        "\n",
        "tokenizer = nltk.data.load('tokenizers/punkt/english.pickle')\n",
        "fp = open(\"para.txt\")\n",
        "data = fp.read()\n",
        "print('\\n-----\\n'.join(tokenizer.tokenize(data)))"
      ],
      "metadata": {
        "id": "tVKtGPm_neWj"
      },
      "execution_count": null,
      "outputs": []
    },
    {
      "cell_type": "code",
      "source": [
        "from nltk.tokenize import word_tokenize\n",
        "text =  '''Are  you  fascinated  by  the  amount  of  text  data  available  on  the  internet?  Are  you \n",
        "looking  for  ways  to  work  with  this  text  data  but  aren’t  sure  where  to  begin? \n",
        "Machines, after all, recognize numbers, not the letters of our language. And that can \n",
        "be a tricky landscape to navigate in machine learning.'''\n",
        "print(word_tokenize(text))"
      ],
      "metadata": {
        "id": "AfOiSBUNniwd"
      },
      "execution_count": null,
      "outputs": []
    },
    {
      "cell_type": "code",
      "source": [
        "import nltk\n",
        "from nltk.stem.porter import PorterStemmer\n",
        "porter_stemmer  = PorterStemmer()\n",
        "words = ['cats','trouble','troubling','troubled','having','Corriendo','at','was']\n",
        "print(\"stemming for :\")\n",
        "for w in words:\n",
        "    print(\"   {} is {}\".format(w,porter_stemmer.stem(w)))  "
      ],
      "metadata": {
        "id": "Sp5219x5nm3v"
      },
      "execution_count": null,
      "outputs": []
    },
    {
      "cell_type": "code",
      "source": [
        "import nltk\n",
        "from nltk.stem import WordNetLemmatizer\n",
        "wordnet_lemmatizer = WordNetLemmatizer()\n",
        "words = ['cats','trouble','troubling','troubled','having','Corriendo','at','was']\n",
        "print(\"lemma for :\")\n",
        "for w in words:\n",
        "    print(\"   {} is {}\".format(w,w, wordnet_lemmatizer.lemmatize(w)))  "
      ],
      "metadata": {
        "id": "fogkckXmnrZ8"
      },
      "execution_count": null,
      "outputs": []
    },
    {
      "cell_type": "code",
      "source": [
        "from nltk.corpus import stopwords\n",
        "from nltk.tokenize import word_tokenize\n",
        " \n",
        "para = '''he NLTK library  is  one  of  the  oldest  and  most  commonly  used  Python  libraries  for \n",
        "Natural Language Processing. NLTK supports stop word removal, and you can find the list \n",
        "of stop words in the  corpus  module. To remove stop words from a sentence, you can divide \n",
        "your text into words and then remove the word if it exits in the list of stop words provided \n",
        "by NLTK.'''\n",
        " \n",
        "stopwords = set(stopwords.words('english'))\n",
        " \n",
        "words = word_tokenize(para)\n",
        " \n",
        "res = [w for w in words if not w.lower() in stopwords]\n",
        " \n",
        "res = []\n",
        " \n",
        "for w in words:\n",
        "    if w not in stopwords:\n",
        "        res.append(w)\n",
        " \n",
        "#print(words)\n",
        "print(res)"
      ],
      "metadata": {
        "id": "nVHeffYSnzky"
      },
      "execution_count": null,
      "outputs": []
    },
    {
      "cell_type": "code",
      "source": [
        "from nltk.corpus import webtext\n",
        "from nltk.probability import FreqDist\n",
        "from nltk.tokenize import word_tokenize\n",
        "\n",
        "para = '''he NLTK library  is  one  of  the  oldest  and  most  commonly  used  Python  libraries  for \n",
        "Natural Language Processing. NLTK supports stop word removal, and you can find the list \n",
        "of stop words in the  corpus  module. To remove stop words from a sentence, you can divide \n",
        "your text into words and then remove the word if it exits in the list of stop words provided \n",
        "by NLTK.'''\n",
        " \n",
        " \n",
        "words = word_tokenize(para)\n",
        "data_analysis = nltk.FreqDist(words)\n",
        "\n",
        "filter_words = dict([(m, n) for m, n in data_analysis.items() if len(m) > 3])\n",
        " \n",
        "for key in sorted(filter_words):\n",
        "    print(\"%s: %s\" % (key, filter_words[key]))\n",
        " \n",
        "data_analysis = nltk.FreqDist(filter_words)\n",
        " \n",
        "data_analysis.plot(25, cumulative=False)\n"
      ],
      "metadata": {
        "id": "Fpf_xpK4n3rV"
      },
      "execution_count": null,
      "outputs": []
    }
  ]
}